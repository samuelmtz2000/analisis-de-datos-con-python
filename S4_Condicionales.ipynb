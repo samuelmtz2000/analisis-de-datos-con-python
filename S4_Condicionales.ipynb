{
  "cells": [
    {
      "cell_type": "code",
      "execution_count": null,
      "metadata": {
        "id": "uACmYwA7AntE"
      },
      "outputs": [],
      "source": [
        "# Eliminar una varible\n",
        "\n",
        "edad = 28"
      ]
    },
    {
      "cell_type": "code",
      "execution_count": null,
      "metadata": {
        "id": "mDJNlT4jAxPt"
      },
      "outputs": [],
      "source": [
        "# Eliminar variable\n",
        "del edad"
      ]
    },
    {
      "cell_type": "code",
      "execution_count": null,
      "metadata": {
        "colab": {
          "base_uri": "https://localhost:8080/"
        },
        "id": "Pzg9UVePLXYD",
        "outputId": "9c3f7f9b-1f61-4f7f-b96e-563ee36ae688"
      },
      "outputs": [
        {
          "name": "stdout",
          "output_type": "stream",
          "text": [
            "Ingresa la contraseña0000\n",
            "Cuanto deseas retirar1000000\n",
            "entregando  1000000  pesos\n"
          ]
        }
      ],
      "source": [
        "# Cajero automático\n",
        "\n",
        "usuario = 12346\n",
        "contraseña = 3369\n",
        "\n",
        "contraseña = int(input(\"Ingresa la contraseña\"))\n",
        "monto = int(input(\"Cuanto deseas retirar\"))\n",
        "\n",
        "print(\"entregando \", monto, \" pesos\")\n"
      ]
    },
    {
      "cell_type": "markdown",
      "metadata": {
        "id": "jopQqTsayCEQ"
      },
      "source": [
        "Condicional simple"
      ]
    },
    {
      "cell_type": "code",
      "execution_count": null,
      "metadata": {
        "colab": {
          "base_uri": "https://localhost:8080/"
        },
        "id": "3C8cEZz3yB0F",
        "outputId": "8a1a0e8d-6fc8-4a2b-aba1-03686b7dad66"
      },
      "outputs": [
        {
          "name": "stdout",
          "output_type": "stream",
          "text": [
            "Ingresa la contraseña: 3369\n",
            "Cuanto deseas retirar: 15000\n",
            "entregando  15000  pesos\n",
            "saliendo ....\n"
          ]
        }
      ],
      "source": [
        "# Cajero automático\n",
        "usuario = 12346\n",
        "contrasenia_bd = 3369  #Contraseña que tengo en la base de datos\n",
        "saldo_actual = 15000\n",
        "\n",
        "\n",
        "contrasenia = int(input(\"Ingresa la contraseña: \"))\n",
        "\n",
        "if contrasenia == contrasenia_bd:\n",
        "  monto = int(input(\"Cuanto deseas retirar: \"))\n",
        "  if monto <= saldo_actual:\n",
        "    print(\"entregando \", monto, \" pesos\")\n",
        "\n",
        "print(\"saliendo ....\")"
      ]
    },
    {
      "cell_type": "code",
      "execution_count": null,
      "metadata": {
        "colab": {
          "base_uri": "https://localhost:8080/"
        },
        "id": "tyEC94Q_Pv6j",
        "outputId": "cfb99e08-bfbe-456e-e757-21417b203104"
      },
      "outputs": [
        {
          "name": "stdout",
          "output_type": "stream",
          "text": [
            "Ingresa la contraseña: 3369\n",
            "Cuanto deseas retirar: 8000\n",
            "entregando  8000  pesos\n"
          ]
        }
      ],
      "source": [
        "usuario = 12346\n",
        "contrasenia_bd = 3369\n",
        "saldo_actual = 15000\n",
        "tope_diario = 8300\n",
        "\n",
        "contrasenia = int(input(\"Ingresa la contraseña: \"))\n",
        "\n",
        "if contrasenia_bd == contrasenia:\n",
        "  monto = int(input(\"Cuanto deseas retirar: \"))\n",
        "  if monto <= saldo_actual and monto <= tope_diario:\n",
        "    print(\"entregando \", monto, \" pesos\")\n",
        "  else:\n",
        "    print(\"Saldo insuficiente\")\n",
        "\n",
        "else:\n",
        "  print(\"Contraseña incorrecta\")"
      ]
    },
    {
      "cell_type": "markdown",
      "metadata": {
        "id": "ao4sW85LaNLw"
      },
      "source": [
        "Operadores lógicos:\n",
        "- and  'y'\n",
        "- or  'o'\n",
        "- not 'no' Negación"
      ]
    },
    {
      "cell_type": "code",
      "execution_count": null,
      "metadata": {
        "colab": {
          "base_uri": "https://localhost:8080/"
        },
        "id": "hqacDSP61HHW",
        "outputId": "e58701cf-0069-4e05-f953-ae26e22de719"
      },
      "outputs": [
        {
          "name": "stdout",
          "output_type": "stream",
          "text": [
            "Falso\n"
          ]
        }
      ],
      "source": [
        "marca_coche = \"Mazda\" # 50,000\n",
        "num_puertas = 3 # 10\n",
        "seguridad = 3 # 10\n",
        "\n",
        "if marca_coche == \"Mazda\" and seguridad >= 5:\n",
        "  print(\"verdadero\")\n",
        "else:\n",
        "  print(\"Falso\")"
      ]
    },
    {
      "cell_type": "code",
      "execution_count": null,
      "metadata": {
        "colab": {
          "base_uri": "https://localhost:8080/"
        },
        "id": "yb19cSXY2Zy9",
        "outputId": "080d2434-1df5-4f06-b885-13e52f838b1f"
      },
      "outputs": [
        {
          "name": "stdout",
          "output_type": "stream",
          "text": [
            "verdadero\n"
          ]
        }
      ],
      "source": [
        "marca_coche = \"Ford\"\n",
        "num_puertas = 3\n",
        "seguridad = 10\n",
        "\n",
        "if marca_coche == \"Mazda\" or seguridad >= 5:\n",
        "  print(\"verdadero\")\n",
        "else:\n",
        "  print(\"Falso\")"
      ]
    },
    {
      "cell_type": "markdown",
      "metadata": {
        "id": "2L9y2mSyAdIg"
      },
      "source": [
        "# Cuándo y cómo usar los condicionales en Python\n",
        "\n",
        "Condiciones de Python y declaraciones If\n",
        "\n",
        "* Python admite las condiciones lógicas habituales de las matemáticas:\n",
        "\n",
        "  - Es igual a: a == b\n",
        "  - No es igual a: a ! = B\n",
        "  - Menor que: a <b\n",
        "  - Menor o igual a: a <= b\n",
        "  - Mayor que: a> b\n",
        "  - Mayor o igual a: a> = b\n",
        "  - Estas condiciones se pueden utilizar de varias formas, más comúnmente en \"sentencias if\" y bucles.\n",
        "\n",
        "**Una \"instrucción if\" se escribe utilizando la palabra clave if.**"
      ]
    },
    {
      "cell_type": "code",
      "execution_count": null,
      "metadata": {
        "colab": {
          "base_uri": "https://localhost:8080/"
        },
        "id": "ZeJDvT0CAO3g",
        "outputId": "8c6746ea-66f3-4842-fc05-7b40886d4532"
      },
      "outputs": [
        {
          "name": "stdout",
          "output_type": "stream",
          "text": [
            "Hola\n",
            "Adios\n"
          ]
        }
      ],
      "source": [
        "# Condicional simple\n",
        "var1 = 50\n",
        "var2 = 50\n",
        "if var1 == var2:\n",
        "  print(\"Hola\") # Bloque condicionado\n",
        "print(\"Adios\")  # Flujo normal"
      ]
    },
    {
      "cell_type": "code",
      "execution_count": null,
      "metadata": {
        "colab": {
          "base_uri": "https://localhost:8080/"
        },
        "id": "GYrSWRerqpbG",
        "outputId": "0fc6147a-861e-45cb-f03f-766621e787ad"
      },
      "outputs": [
        {
          "name": "stdout",
          "output_type": "stream",
          "text": [
            "No se cumplió la condición\n",
            "salida\n"
          ]
        }
      ],
      "source": [
        "# Condicional doble\n",
        "var1 = 18\n",
        "var2 = 118\n",
        "if var1 == var2:\n",
        "  print(\"Se cumplió la condición\")\n",
        "else:\n",
        "  print(\"No se cumplió la condición\")\n",
        "\n",
        "print(\"salida\")"
      ]
    },
    {
      "cell_type": "markdown",
      "metadata": {
        "id": "9HjChdSZN7JF"
      },
      "source": [
        "**Indentación o Sangría (Indentation)**\n",
        "\n",
        "* Python usa la sangría (espacio en blanco al comienzo de una línea) para definir el alcance en el código. Otros lenguajes de programación a menudo usan corchetes para este propósito."
      ]
    },
    {
      "cell_type": "code",
      "execution_count": null,
      "metadata": {
        "id": "_zP0-b7BN60K"
      },
      "outputs": [],
      "source": []
    },
    {
      "cell_type": "markdown",
      "metadata": {
        "id": "QCtkL146OPq5"
      },
      "source": [
        "**elif**\n",
        "\n",
        "* La palabra clave o palabra reservada *elif* es la forma de Python de decir \"si la(s) condicion(es) anterior(es) no eran verdaderas, entonces prueba esta condición\"."
      ]
    },
    {
      "cell_type": "code",
      "execution_count": null,
      "metadata": {
        "colab": {
          "base_uri": "https://localhost:8080/"
        },
        "id": "zX9NgE9VOjUR",
        "outputId": "c00d54bf-124b-427d-eb0c-3640448583ae"
      },
      "outputs": [
        {
          "name": "stdout",
          "output_type": "stream",
          "text": [
            "var1 == var2\n"
          ]
        }
      ],
      "source": [
        "#Estructura condicional múltiple\n",
        "var1 = 20\n",
        "var2 = 20\n",
        "var3 = 20\n",
        "\n",
        "if var1 == var2:\n",
        "  print(\"var1 == var2\")\n",
        "elif var1 == var3:\n",
        "  print(\"var1 == var3\")\n",
        "else:\n",
        "  print(\"var1 no es igual a ninguna de las variables\")"
      ]
    },
    {
      "cell_type": "markdown",
      "metadata": {
        "id": "PizEdro6UW_z"
      },
      "source": [
        "Expresiones compuestas"
      ]
    },
    {
      "cell_type": "code",
      "execution_count": null,
      "metadata": {
        "colab": {
          "base_uri": "https://localhost:8080/"
        },
        "id": "H_ebq2E3UXah",
        "outputId": "472624b6-aa7f-4557-d0f8-253af005b98d"
      },
      "outputs": [
        {
          "name": "stdout",
          "output_type": "stream",
          "text": [
            "var1 = var2 = var3\n"
          ]
        }
      ],
      "source": [
        "var1 = 20\n",
        "var2 = 20\n",
        "var3 = 20\n",
        "\n",
        "if var1 == var2:\n",
        "  if var1 == var3:\n",
        "    print(\"var1 = var2 = var3\")"
      ]
    },
    {
      "cell_type": "code",
      "execution_count": null,
      "metadata": {
        "id": "TgvKLqFyU4Va"
      },
      "outputs": [],
      "source": [
        "var1 = 2\n",
        "var2 = 20\n",
        "var3 = 2\n",
        "\n",
        "if var1 == var2 and var1 == var3:\n",
        "  print(\"var1 = var2 = var3\")"
      ]
    },
    {
      "cell_type": "markdown",
      "metadata": {
        "id": "lGOA_DJKOi1w"
      },
      "source": [
        "**else**\n",
        "\n",
        "* La palabra clave else captura cualquier cosa que no sea detectada por las condiciones anteriores."
      ]
    },
    {
      "cell_type": "code",
      "execution_count": null,
      "metadata": {
        "id": "6ET_R-x8OQaB"
      },
      "outputs": [],
      "source": []
    },
    {
      "cell_type": "markdown",
      "metadata": {
        "id": "OFC103yJO7bo"
      },
      "source": [
        "**if's Anidados**\n",
        "\n",
        "* Puedes tener sentencias *if* dentro de sentencias *if*, esto se denomina sentencias *if* anidadas."
      ]
    },
    {
      "cell_type": "code",
      "execution_count": null,
      "metadata": {
        "colab": {
          "base_uri": "https://localhost:8080/"
        },
        "id": "l5cxK2WzO8Sd",
        "outputId": "82a23a6d-4ad1-49c0-b98f-71c036eac398"
      },
      "outputs": [
        {
          "name": "stdout",
          "output_type": "stream",
          "text": [
            "a es el número menor de los tres números\n"
          ]
        }
      ],
      "source": [
        "a = 1\n",
        "b = 2\n",
        "c = 8\n",
        "\n",
        "if a < b:\n",
        "  if a < c:\n",
        "    print(\"a es el número menor de los tres números\")\n",
        "  else:\n",
        "    print(\"...\")\n",
        "else:\n",
        "  print(\"...\")\n"
      ]
    },
    {
      "cell_type": "markdown",
      "metadata": {
        "id": "Go7YooQdPJgI"
      },
      "source": [
        "**La declaración del pass**\n",
        "\n",
        "* Las declaraciones *if* no pueden estar vacías, pero si por alguna razón tienes una declaración *if* sin contenido, coloca la declaración pass para evitar errores."
      ]
    },
    {
      "cell_type": "code",
      "execution_count": null,
      "metadata": {
        "id": "gzauA_GSPKCu"
      },
      "outputs": [],
      "source": [
        "a = 1\n",
        "b = 2\n",
        "c = 8\n",
        "\n",
        "if a < b:  # EOF = End Of File\n",
        " ..."
      ]
    },
    {
      "cell_type": "code",
      "execution_count": null,
      "metadata": {
        "id": "tEq1Nfbtjn7K"
      },
      "outputs": [],
      "source": [
        "a = 10\n",
        "b = 2\n",
        "c = 8\n",
        "\n",
        "if a < b:\n",
        "  pass"
      ]
    },
    {
      "cell_type": "markdown",
      "metadata": {
        "id": "RHQRcdqUPV9A"
      },
      "source": [
        "# Ejercicios"
      ]
    },
    {
      "cell_type": "markdown",
      "metadata": {
        "id": "BphD-iOsA1vI"
      },
      "source": [
        "1. Escribir un programa que pregunte al usuario su edad y muestre por pantalla si es mayor de edad o no."
      ]
    },
    {
      "cell_type": "code",
      "execution_count": 1,
      "metadata": {
        "id": "xORrI7bRA2Xh"
      },
      "outputs": [
        {
          "name": "stdout",
          "output_type": "stream",
          "text": [
            "Eres mayor de edad\n"
          ]
        }
      ],
      "source": [
        "# Preguntar la edad\n",
        "edad = input(\"¿Cuál es tu edad?\")\n",
        "# Convertir la entrada del input a float\n",
        "edad = float(edad)\n",
        "# Preguntar si en mayor de edad\n",
        "if edad >= 18:\n",
        "  # Mostrar en pantalla si es mayor de edad\n",
        "  print(\"Eres mayor de edad\")\n",
        "else:\n",
        "  # Si no es mayor de edad, mostrarlo en pantalla\n",
        "  print(\"No eres mayor de edad\")"
      ]
    },
    {
      "cell_type": "code",
      "execution_count": null,
      "metadata": {
        "id": "q3vofmkQEziY"
      },
      "outputs": [],
      "source": [
        "# prompt: Escribir un programa que pregunte al usuario su edad y muestre por pantalla si es mayor de edad o no.\n",
        "\n",
        "edad = int(input(\"¿Cuál es tu edad?\"))\n",
        "if edad >= 18:\n",
        "  print(\"Eres mayor de edad\")\n",
        "else:\n",
        "  print(\"No eres mayor de edad\")\n"
      ]
    },
    {
      "cell_type": "markdown",
      "metadata": {
        "id": "29nzE0_IA2xT"
      },
      "source": [
        "2. Escribir un programa que almacene la cadena de caracteres contraseña en una variable, pregunte al usuario por la contraseña e imprima por pantalla si la contraseña introducida por el usuario coincide con la guardada en la variable sin tener en cuenta mayúsculas y minúsculas."
      ]
    },
    {
      "cell_type": "code",
      "execution_count": null,
      "metadata": {
        "colab": {
          "base_uri": "https://localhost:8080/"
        },
        "id": "7xi9CILVA3PJ",
        "outputId": "dc092475-3f32-43ba-d82f-505b362fee62"
      },
      "outputs": [
        {
          "data": {
            "text/plain": [
              "True"
            ]
          },
          "execution_count": 4,
          "metadata": {},
          "output_type": "execute_result"
        }
      ],
      "source": [
        "contrasenia = \"contrasennia\"\n",
        "contrasenia_usuario = input(\"Introduce la contraseña: \")\n",
        "\n",
        "if contrasenia.lower() == contrasenia_usuario.lower():\n",
        " print(\"La contraseña es correcta\")\n",
        "else:\n",
        " print(\"La contraseña es incorrecta\")\n"
      ]
    },
    {
      "cell_type": "markdown",
      "metadata": {
        "id": "hSfdcmgOA3dp"
      },
      "source": [
        "3. Escribir un programa que pida al usuario dos números y muestre por pantalla su división. Si el divisor es cero el programa debe mostrar un error."
      ]
    },
    {
      "cell_type": "code",
      "execution_count": 4,
      "metadata": {
        "colab": {
          "background_save": true
        },
        "id": "OcJqYt87A31a",
        "outputId": "adf3907e-3bf4-4087-d448-762b13764e5d"
      },
      "outputs": [
        {
          "name": "stdout",
          "output_type": "stream",
          "text": [
            "Error: Division by zero is not allowed.\n"
          ]
        }
      ],
      "source": [
        "try:\n",
        " num1 = float(input(\"Enter the first number: \"))\n",
        " num2 = float(input(\"Enter the second number: \"))\n",
        " \n",
        " result = num1 / num2\n",
        " print(\"The division result is:\", result)\n",
        " \n",
        "except ZeroDivisionError:\n",
        " print(\"Error: Division by zero is not allowed.\")\n",
        "except ValueError:\n",
        " print(\"Error: Invalid input. Please enter numbers only.\")\n"
      ]
    },
    {
      "cell_type": "markdown",
      "metadata": {
        "id": "7es3piydBCFK"
      },
      "source": [
        "4. Escribir un programa que pida al usuario un número entero y muestre por pantalla si es par o impar."
      ]
    },
    {
      "cell_type": "code",
      "execution_count": null,
      "metadata": {
        "colab": {
          "base_uri": "https://localhost:8080/"
        },
        "id": "1EPTmiu8BCrk",
        "outputId": "a286d1ce-170b-4117-9754-c8394db42043"
      },
      "outputs": [
        {
          "name": "stdout",
          "output_type": "stream",
          "text": [
            "Introduzca un número: 18\n",
            "18 es un numero par\n"
          ]
        }
      ],
      "source": [
        "numero = int(input(\"Ingrese un número entero: \"))\n",
        "\n",
        "if numero % 2 == 0:\n",
        " print(\"El número es par\")\n",
        "else:\n",
        " print(\"El número es impar\")\n"
      ]
    },
    {
      "cell_type": "markdown",
      "metadata": {
        "id": "L0BwKUEhBHKi"
      },
      "source": [
        "5. Los alumnos de un curso se han dividido en dos grupos A y B de acuerdo al sexo y el nombre. El grupo A esta formado por las mujeres con un nombre anterior a la M y los hombres con un nombre posterior a la N y el grupo B por el resto. Escribir un programa que pregunte al usuario su nombre y sexo, y muestre por pantalla el grupo que le corresponde."
      ]
    },
    {
      "cell_type": "code",
      "execution_count": 5,
      "metadata": {},
      "outputs": [
        {
          "name": "stdout",
          "output_type": "stream",
          "text": [
            "Usted pertenece al grupo A\n"
          ]
        }
      ],
      "source": [
        "name = input(\"Ingrese su nombre: \")\n",
        "gender = input(\"Ingrese su género (M/F): \")\n",
        "\n",
        "if gender == \"F\" and name.lower() < \"m\":\n",
        " group = \"A\"\n",
        "elif gender == \"M\" and name.lower() > \"n\":\n",
        " group = \"A\"\n",
        "else:\n",
        " group = \"B\"\n",
        "\n",
        "print(\"Usted pertenece al grupo\", group)\n"
      ]
    },
    {
      "cell_type": "markdown",
      "metadata": {
        "id": "rGhFki3OBHkg"
      },
      "source": [
        "6. Escribir un programa que dados 3 números imprima cuál es el mayor"
      ]
    },
    {
      "cell_type": "code",
      "execution_count": null,
      "metadata": {
        "id": "cegH0DdiCLKt"
      },
      "outputs": [],
      "source": [
        "# Versión 2\n",
        "num1 = float(input(\"Enter the first number: \"))\n",
        "num2 = float(input(\"Enter the second number: \"))\n",
        "num3 = float(input(\"Enter the third number: \"))\n",
        "\n",
        "largest = max(num1, num2, num3)\n",
        "print(\"The largest number is:\", largest)\n",
        "# do the exersise with if-else\n",
        "num1 = float(input(\"Enter the first number: \"))\n",
        "num2 = float(input(\"Enter the second number: \"))\n",
        "num3 = float(input(\"Enter the third number: \"))\n",
        "if num1 >= num2 and num1 >= num3:\n",
        " largest = num1\n",
        " print(\"The largest number is: \", largest\n",
        "elif num2 >= num1 and num2 >= num3:\n",
        " largest = num2\n",
        " print(\"The largest number is: \", largest\n",
        "else:\n",
        " largest = num3\n",
        " print(\"The largest number is: \", largest)\n",
        "\n",
        " # do it with algorith split\n",
        "num1 = float(input(\"Enter the first number: \"))\n",
        "num2 = float(input(\"Enter the second number: \"))\n",
        "num3 = float(input(\"Enter the third number: \"))\n",
        "if num1 >= num2:\n",
        " if num1 >= num3:\n",
        " largest = num1\n",
        " else:\n",
        " largest = num3\n",
        "else:\n",
        " if num2 >= num3:\n",
        " largest = num2\n",
        " else:\n",
        " largest = num3\n",
        "print(\"The largest number is:\", largest)\n"
      ]
    }
  ],
  "metadata": {
    "colab": {
      "provenance": []
    },
    "kernelspec": {
      "display_name": "Python 3",
      "name": "python3"
    },
    "language_info": {
      "codemirror_mode": {
        "name": "ipython",
        "version": 3
      },
      "file_extension": ".py",
      "mimetype": "text/x-python",
      "name": "python",
      "nbconvert_exporter": "python",
      "pygments_lexer": "ipython3",
      "version": "3.10.10"
    }
  },
  "nbformat": 4,
  "nbformat_minor": 0
}
