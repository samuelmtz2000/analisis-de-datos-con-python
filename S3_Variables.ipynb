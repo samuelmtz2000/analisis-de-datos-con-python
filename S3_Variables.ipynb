{
  "cells": [
    {
      "cell_type": "markdown",
      "metadata": {
        "id": "2L9y2mSyAdIg"
      },
      "source": [
        "#Cómo usar las variables en Python\n",
        "\n",
        "**Variables**\n",
        "* Las variables son contenedores para almacenar valores. 📦\n",
        "\n",
        "---\n",
        "\n",
        "**¿Por qué necesitamos variables en nuestro código?**\n",
        "* Nos ayudan a:\n",
        "  * Guardar datos\n",
        "  * Asignar valores de una variable a otra\n",
        "  * Representar valores en una expresión matemática\n",
        "  * Generalizar un código"
      ]
    },
    {
      "cell_type": "markdown",
      "metadata": {
        "id": "OCo0pynPbkHj"
      },
      "source": [
        "*En programación, una variable está formada por un espacio en el sistema de almacenaje (memoria principal de un ordenador) y un nombre simbólico (un identificador) que está asociado a dicho espacio.*\n",
        "\n",
        "*Wikipedia*\n",
        "\n"
      ]
    },
    {
      "cell_type": "markdown",
      "metadata": {
        "id": "rjG7Ss8dbN7h"
      },
      "source": [
        "![image.png](data:image/png;base64,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)"
      ]
    },
    {
      "cell_type": "markdown",
      "metadata": {
        "id": "_Q393p7HbTNW"
      },
      "source": [
        "---\n",
        "**Creando Variables**\n",
        "* Python no tiene ningún comando para declarar una variable.\n",
        "* Una variable se crea en el momento en que se le asigna un valor por primera vez."
      ]
    },
    {
      "cell_type": "code",
      "execution_count": null,
      "metadata": {
        "colab": {
          "base_uri": "https://localhost:8080/"
        },
        "id": "ZeJDvT0CAO3g",
        "outputId": "322ea91f-55e6-4b79-e7ca-fe9e8815f1b7"
      },
      "outputs": [
        {
          "name": "stdout",
          "output_type": "stream",
          "text": [
            "5\n",
            "5 3.5 Hola 123 11 True\n"
          ]
        }
      ],
      "source": [
        "# Un comentario no se ejecuta. Es ignorado por el intérprete.\n",
        "# Puedo tener tantos comentarios como sean necesarios.\n",
        "var1 = 5\n",
        "var2 = 3.5\n",
        "var3 = \"Hola\"\n",
        "\n",
        "# ¿Cómo puedo ver en consola el valor de una variable? - Usando la función print(~)\n",
        "print(var1)\n",
        "# Es posibile imprimir (visualizar) en consola varias variables usando solo una llamada a la función print(~)\n",
        "print(var1,var2,var3,123,\"11\",True)"
      ]
    },
    {
      "cell_type": "markdown",
      "metadata": {
        "id": "jIRY7GsLEcbo"
      },
      "source": [
        "* Las variables no necesitan declararse con ningún tipo en particular, e incluso pueden cambiar de tipo una vez que se han establecido. *Esta características de Python se llama Tipado dinámico*"
      ]
    },
    {
      "cell_type": "code",
      "execution_count": null,
      "metadata": {
        "colab": {
          "base_uri": "https://localhost:8080/"
        },
        "id": "i4G778wrEwzS",
        "outputId": "4b118ba1-3d23-4821-c0ed-9a246337559b"
      },
      "outputs": [
        {
          "data": {
            "text/plain": [
              "int"
            ]
          },
          "execution_count": 6,
          "metadata": {},
          "output_type": "execute_result"
        }
      ],
      "source": [
        "var4 = 5\n",
        "type(var4)"
      ]
    },
    {
      "cell_type": "code",
      "execution_count": null,
      "metadata": {
        "colab": {
          "base_uri": "https://localhost:8080/"
        },
        "id": "FGERCE23NnoY",
        "outputId": "50ea0587-b827-4344-ee8a-30a14395f6a9"
      },
      "outputs": [
        {
          "data": {
            "text/plain": [
              "float"
            ]
          },
          "execution_count": 7,
          "metadata": {},
          "output_type": "execute_result"
        }
      ],
      "source": [
        "var4 = 5.8\n",
        "type(var4)"
      ]
    },
    {
      "cell_type": "code",
      "execution_count": null,
      "metadata": {
        "id": "uG-jDVQFkwzH"
      },
      "outputs": [],
      "source": [
        "var = 10\n",
        "var_2 = 20"
      ]
    },
    {
      "cell_type": "code",
      "execution_count": null,
      "metadata": {
        "colab": {
          "base_uri": "https://localhost:8080/"
        },
        "id": "soEzIT4Uk17x",
        "outputId": "a67c84c2-b5fb-4f78-ca69-c5e5a836b5b7"
      },
      "outputs": [
        {
          "name": "stdout",
          "output_type": "stream",
          "text": [
            "30\n"
          ]
        }
      ],
      "source": [
        "suma = var + var_2\n",
        "print(suma)"
      ]
    },
    {
      "cell_type": "code",
      "execution_count": null,
      "metadata": {
        "id": "cN9clpGakwwY"
      },
      "outputs": [],
      "source": []
    },
    {
      "cell_type": "markdown",
      "metadata": {
        "id": "ojjIRsWJEkQX"
      },
      "source": [
        "##Casting\n",
        "\n",
        "* Si desea especificar el tipo de datos de una variable, puede hacerlo con una conversión (*cast*)."
      ]
    },
    {
      "cell_type": "code",
      "execution_count": null,
      "metadata": {
        "colab": {
          "base_uri": "https://localhost:8080/"
        },
        "id": "lmBgeTdmEjpt",
        "outputId": "0d900585-97f5-4497-9d38-9e6090afff98"
      },
      "outputs": [
        {
          "name": "stdout",
          "output_type": "stream",
          "text": [
            "Hola, 11\n"
          ]
        }
      ],
      "source": [
        "var5 = \"Hola, \"\n",
        "var6 = 11\n",
        "\n",
        "# El operador + concatena (une) strings\n",
        "#concatenacion = var5 + var6  # Error can only concatenate str (not \"int\") to str\n",
        "concatenacion = var5 + str(var6) # str(var6) es un ejemplo casting\n",
        "\n",
        "print(concatenacion)"
      ]
    },
    {
      "cell_type": "code",
      "execution_count": null,
      "metadata": {
        "id": "5REwz-KyMO2R"
      },
      "outputs": [],
      "source": [
        "var_6_str = str(var6)"
      ]
    },
    {
      "cell_type": "code",
      "execution_count": null,
      "metadata": {
        "colab": {
          "base_uri": "https://localhost:8080/"
        },
        "id": "HFTnCq8aMJ7F",
        "outputId": "b174e8c8-2dea-4889-f2e3-621d36881748"
      },
      "outputs": [
        {
          "data": {
            "text/plain": [
              "str"
            ]
          },
          "execution_count": 18,
          "metadata": {},
          "output_type": "execute_result"
        }
      ],
      "source": [
        "type(var_6_str)"
      ]
    },
    {
      "cell_type": "code",
      "execution_count": null,
      "metadata": {
        "colab": {
          "base_uri": "https://localhost:8080/"
        },
        "id": "zu_QPgmFQGdy",
        "outputId": "711e8166-cd03-4472-8f63-c481d8efcb5c"
      },
      "outputs": [
        {
          "name": "stdout",
          "output_type": "stream",
          "text": [
            "Hola, 11\n"
          ]
        }
      ],
      "source": [
        "var5 = \"Hola, \"\n",
        "var6 = \"11\"\n",
        "\n",
        "# El operador + concatena (une) strings\n",
        "concatenacion = var5 + var6\n",
        "\n",
        "print(concatenacion)"
      ]
    },
    {
      "cell_type": "markdown",
      "metadata": {
        "id": "kGcojH8NE5Jb"
      },
      "source": [
        "**Obtener el tipo**\n",
        "\n",
        "* Puede obtener el tipo de datos de una variable con la función *type()*"
      ]
    },
    {
      "cell_type": "code",
      "execution_count": null,
      "metadata": {
        "colab": {
          "base_uri": "https://localhost:8080/"
        },
        "id": "MtKBHKd0FBnJ",
        "outputId": "5e13a7d6-8e7e-4b72-de87-cf2933107b52"
      },
      "outputs": [
        {
          "data": {
            "text/plain": [
              "float"
            ]
          },
          "execution_count": 20,
          "metadata": {},
          "output_type": "execute_result"
        }
      ],
      "source": [
        "var7 = 3.5\n",
        "type(var7)"
      ]
    },
    {
      "cell_type": "markdown",
      "metadata": {
        "id": "NpLyX1AvFCH7"
      },
      "source": [
        "**Cadenas de caractéres (strings)**\n",
        "\n",
        "* Las variables de cadena se pueden declarar utilizando comillas simples o dobles"
      ]
    },
    {
      "cell_type": "code",
      "execution_count": null,
      "metadata": {
        "colab": {
          "base_uri": "https://localhost:8080/"
        },
        "id": "XKttBl4NFYVS",
        "outputId": "a272e724-7941-4df9-91aa-48b473116650"
      },
      "outputs": [
        {
          "name": "stdout",
          "output_type": "stream",
          "text": [
            "Variable declarada con comillas dobles ->  <class 'str'>\n",
            "Variable declarada con comillas simples ->  <class 'str'>\n"
          ]
        }
      ],
      "source": [
        "var8 = \"Hola\"\n",
        "var9 = 'Hola'\n",
        "\n",
        "print(\"Variable declarada con comillas dobles -> \",type(var8))\n",
        "print(\"Variable declarada con comillas simples -> \",type(var9))"
      ]
    },
    {
      "cell_type": "code",
      "execution_count": null,
      "metadata": {
        "colab": {
          "base_uri": "https://localhost:8080/"
        },
        "id": "WzKzwr6rM_NX",
        "outputId": "4f8ecc2a-491c-44df-cdfe-e0e7e45fff48"
      },
      "outputs": [
        {
          "name": "stdout",
          "output_type": "stream",
          "text": [
            "Hola\n"
          ]
        }
      ],
      "source": [
        "print(\"Hola\")"
      ]
    },
    {
      "cell_type": "code",
      "execution_count": null,
      "metadata": {
        "colab": {
          "base_uri": "https://localhost:8080/"
        },
        "id": "QRr6KHifixzu",
        "outputId": "1d5653d9-0f85-45da-9c7e-32368ed5adb8"
      },
      "outputs": [
        {
          "name": "stdout",
          "output_type": "stream",
          "text": [
            "'Hola'\n",
            "'Hola'\n"
          ]
        }
      ],
      "source": [
        "print('\\'Hola\\'')\n",
        "print(\"'Hola'\")"
      ]
    },
    {
      "cell_type": "code",
      "execution_count": null,
      "metadata": {
        "colab": {
          "base_uri": "https://localhost:8080/"
        },
        "id": "QIkmkUVbGz78",
        "outputId": "49c396d6-cb82-4ac7-ad85-14906f5acea5"
      },
      "outputs": [
        {
          "name": "stdout",
          "output_type": "stream",
          "text": [
            "5.0\n"
          ]
        }
      ],
      "source": [
        "var = 5\n",
        "\n",
        "var2float = float(var)\n",
        "\n",
        "print(var2float)"
      ]
    },
    {
      "cell_type": "markdown",
      "metadata": {
        "id": "JWQ_TIGxFpx0"
      },
      "source": [
        "* Los nombres de las variables distinguen entre mayúsculas y minúsculas."
      ]
    },
    {
      "cell_type": "code",
      "execution_count": null,
      "metadata": {
        "colab": {
          "base_uri": "https://localhost:8080/"
        },
        "id": "yaLat7H_FuY0",
        "outputId": "15982e1c-b270-40dc-bd44-3d540e41fa9b"
      },
      "outputs": [
        {
          "name": "stdout",
          "output_type": "stream",
          "text": [
            "12\n",
            "11\n"
          ]
        }
      ],
      "source": [
        "var10 = 5 # No es la misma que Var10\n",
        "Var10 = 6 # No es la misma que var10\n",
        "var11 = 6\n",
        "sumaRes = var10+var11\n",
        "\n",
        "print(Var10+var11)\n",
        "print(sumaRes)"
      ]
    },
    {
      "cell_type": "markdown",
      "metadata": {
        "id": "FOLEVheBFu5w"
      },
      "source": [
        "##Cómo nombrar una variable\n",
        "\n",
        "Una variable puede tener un nombre corto (como *x* o *y*) o un nombre más descriptivo (edad, nombre_del_coche, volumen_total).\n",
        "\n",
        "**Reglas para variables de Python:**\n",
        "\n",
        "* El nombre de una variable debe comenzar con una letra o el carácter de subrayado (guión bajo, '_')\n",
        "* El nombre de una variable no puede comenzar con un número\n",
        "* El nombre de una variable solo puede contener caracteres alfanuméricos y guiones bajos (A-z, 0-9 y _)\n",
        "* Los nombres de las variables distinguen entre mayúsculas y minúsculas (Edad, edad y la EDAD son tres variables diferentes)\n",
        "* NOTA: No nombrar una variable con una palabra reservada."
      ]
    },
    {
      "cell_type": "code",
      "execution_count": null,
      "metadata": {
        "id": "yILC__11PHxX"
      },
      "outputs": [],
      "source": [
        "print = 3"
      ]
    },
    {
      "cell_type": "code",
      "execution_count": null,
      "metadata": {
        "colab": {
          "base_uri": "https://localhost:8080/",
          "height": 169
        },
        "id": "RtQi_u_YPK1G",
        "outputId": "bd573de5-1a8a-4fe6-d807-50940544c14e"
      },
      "outputs": [
        {
          "ename": "TypeError",
          "evalue": "ignored",
          "output_type": "error",
          "traceback": [
            "\u001b[0;31m---------------------------------------------------------------------------\u001b[0m",
            "\u001b[0;31mTypeError\u001b[0m                                 Traceback (most recent call last)",
            "\u001b[0;32m<ipython-input-26-e97122a20972>\u001b[0m in \u001b[0;36m<module>\u001b[0;34m()\u001b[0m\n\u001b[0;32m----> 1\u001b[0;31m \u001b[0mprint\u001b[0m\u001b[0;34m(\u001b[0m\u001b[0;36m2\u001b[0m\u001b[0;34m)\u001b[0m\u001b[0;34m\u001b[0m\u001b[0;34m\u001b[0m\u001b[0m\n\u001b[0m",
            "\u001b[0;31mTypeError\u001b[0m: 'int' object is not callable"
          ]
        }
      ],
      "source": [
        "print(2)"
      ]
    },
    {
      "cell_type": "code",
      "execution_count": null,
      "metadata": {
        "colab": {
          "base_uri": "https://localhost:8080/",
          "height": 133
        },
        "id": "WSmrp7e7GqRz",
        "outputId": "0b250009-3d04-498f-9b29-b5aae09676b6"
      },
      "outputs": [
        {
          "ename": "SyntaxError",
          "evalue": "ignored",
          "output_type": "error",
          "traceback": [
            "\u001b[0;36m  File \u001b[0;32m\"<ipython-input-1-58e9d3ac7568>\"\u001b[0;36m, line \u001b[0;32m3\u001b[0m\n\u001b[0;31m    0var = 2 #Nombre de Variable no válido\u001b[0m\n\u001b[0m       ^\u001b[0m\n\u001b[0;31mSyntaxError\u001b[0m\u001b[0;31m:\u001b[0m invalid syntax\n"
          ]
        }
      ],
      "source": [
        "_0var = 5\n",
        "print(_0var)\n",
        "0var = 2 #Nombre de Variable no válido"
      ]
    },
    {
      "cell_type": "markdown",
      "metadata": {
        "id": "fOi1hHibGqwU"
      },
      "source": [
        "* Python le permite asignar valores a múltiples variables en una línea."
      ]
    },
    {
      "cell_type": "code",
      "execution_count": null,
      "metadata": {
        "id": "HiRkyOqpP0eJ"
      },
      "outputs": [],
      "source": [
        "x,y,z = 3,2,1  # Es equivalente"
      ]
    },
    {
      "cell_type": "code",
      "execution_count": null,
      "metadata": {
        "colab": {
          "base_uri": "https://localhost:8080/"
        },
        "id": "BPApU2z5P2J7",
        "outputId": "3d38d424-576f-4318-af72-5f55dffe590e"
      },
      "outputs": [
        {
          "name": "stdout",
          "output_type": "stream",
          "text": [
            "3\n",
            "2\n",
            "1\n"
          ]
        }
      ],
      "source": [
        "print(x)\n",
        "print(y)\n",
        "print(z)"
      ]
    },
    {
      "cell_type": "code",
      "execution_count": null,
      "metadata": {
        "colab": {
          "base_uri": "https://localhost:8080/"
        },
        "id": "3_x1pVoyGxwd",
        "outputId": "3fbc8178-582b-49e5-bb19-e2b1a7e76c57"
      },
      "outputs": [
        {
          "name": "stdout",
          "output_type": "stream",
          "text": [
            "1\n",
            "2\n",
            "3\n"
          ]
        }
      ],
      "source": [
        "#x,y,z = 3,2,1  # Es equivalente\n",
        "x = 1\n",
        "y = 2\n",
        "z = 3\n",
        "print(x)\n",
        "print(y)\n",
        "print(z)"
      ]
    },
    {
      "cell_type": "markdown",
      "metadata": {
        "id": "Nfu2X1B5G1UW"
      },
      "source": [
        "* O también puedes asignar el mismo valor a múltiples variables en una línea."
      ]
    },
    {
      "cell_type": "code",
      "execution_count": null,
      "metadata": {
        "colab": {
          "base_uri": "https://localhost:8080/"
        },
        "id": "E8VX_K4JG5f8",
        "outputId": "fdf60793-0d53-4bf7-eba6-7a95bfce141b"
      },
      "outputs": [
        {
          "name": "stdout",
          "output_type": "stream",
          "text": [
            "10\n",
            "10\n",
            "10\n"
          ]
        }
      ],
      "source": [
        "x = y = z = 10\n",
        "print(x)\n",
        "print(y)\n",
        "print(z)"
      ]
    },
    {
      "cell_type": "markdown",
      "metadata": {
        "id": "y5Ij0lGYXoW1"
      },
      "source": [
        "##Tipos de datos estructurados\n",
        "\n",
        "* Son contenedores de una o más variables\n",
        "* Almaceno varios datos usando un solo identificador de variable (Nombre de la variable)\n",
        "* Ejemplos de datos estructurados son: Listas, Tuplas"
      ]
    },
    {
      "cell_type": "markdown",
      "metadata": {
        "id": "qDjOAjg4ad50"
      },
      "source": [
        "**Listas en Python**\n",
        "\n",
        "* Son contenedores heterogéneos y mutables.\n",
        "  -  Heterogéneo => Puede almacenar disitintos tipos de datos\n",
        " -  Mutable => Puede cambiar de elementos\n",
        "* Se definen con corchetes [ ]"
      ]
    },
    {
      "cell_type": "code",
      "execution_count": null,
      "metadata": {
        "colab": {
          "base_uri": "https://localhost:8080/"
        },
        "id": "z5oaQCisfYar",
        "outputId": "b147f6cf-1d08-4d3e-ad45-cafd9b5e5abd"
      },
      "outputs": [
        {
          "name": "stdout",
          "output_type": "stream",
          "text": [
            "[] <class 'list'>\n"
          ]
        }
      ],
      "source": [
        "#Lista vacia\n",
        "lista0 = []\n",
        "print(lista0, type(lista0))"
      ]
    },
    {
      "cell_type": "code",
      "execution_count": null,
      "metadata": {
        "colab": {
          "base_uri": "https://localhost:8080/"
        },
        "id": "4kVktbwrXLUN",
        "outputId": "5bbe1a17-4b51-4686-cb14-cd64706ae965"
      },
      "outputs": [
        {
          "data": {
            "text/plain": [
              "list"
            ]
          },
          "execution_count": 33,
          "metadata": {},
          "output_type": "execute_result"
        }
      ],
      "source": [
        "lista = [1,3.5,\"Hola\"]\n",
        "type(lista)"
      ]
    },
    {
      "cell_type": "markdown",
      "metadata": {
        "id": "fsXLA1Q1KrZ0"
      },
      "source": [
        "![image.png](data:image/png;base64,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)"
      ]
    },
    {
      "cell_type": "code",
      "execution_count": null,
      "metadata": {
        "id": "F72LhpfXLED6"
      },
      "outputs": [],
      "source": [
        "# Datos personales\n",
        "nombre = \"Alan\"\n",
        "nacionalidad = \"Mexicana\"\n",
        "edad = 33\n",
        "             #idx=0   #idx=1    #idx=2\n",
        "usuario_1 = [\"Alan\", \"Mexicana\", 33]"
      ]
    },
    {
      "cell_type": "markdown",
      "metadata": {
        "id": "s09Y0J9bc_Ip"
      },
      "source": [
        "* Para acceder a un elemento de la lista usamos el identificador de la variable seguido del índice entre corchetes de la posición a la que queremos acceder\n",
        "\n"
      ]
    },
    {
      "cell_type": "code",
      "execution_count": null,
      "metadata": {
        "colab": {
          "base_uri": "https://localhost:8080/"
        },
        "id": "UTgym4TYc00b",
        "outputId": "b2ea754f-8324-4b21-c368-6e5f3e9d343b"
      },
      "outputs": [
        {
          "name": "stdout",
          "output_type": "stream",
          "text": [
            "1\n",
            "Hola\n"
          ]
        }
      ],
      "source": [
        "lista = [1,3.5,\"Hola\"]\n",
        "print(lista[0]) # Accediendo al elemento uno con índice 0\n",
        "print(lista[2]) # Accediendo al elemento tres con índice 2"
      ]
    },
    {
      "cell_type": "code",
      "execution_count": null,
      "metadata": {
        "colab": {
          "base_uri": "https://localhost:8080/"
        },
        "id": "4yO1LpO0dO0_",
        "outputId": "b16670f8-7ece-453b-886b-3eceb859cea3"
      },
      "outputs": [
        {
          "name": "stdout",
          "output_type": "stream",
          "text": [
            "1\n"
          ]
        }
      ],
      "source": [
        "elem0 = lista[0]\n",
        "print(elem0)"
      ]
    },
    {
      "cell_type": "code",
      "execution_count": null,
      "metadata": {
        "colab": {
          "base_uri": "https://localhost:8080/"
        },
        "id": "1ohTAn0odwvC",
        "outputId": "b4fc8aaa-954c-4ba8-d0a4-659120294081"
      },
      "outputs": [
        {
          "name": "stdout",
          "output_type": "stream",
          "text": [
            "['a', 'b']\n",
            "b a\n"
          ]
        }
      ],
      "source": [
        "         #0  1  2   3       4\n",
        "lista2 = [1, 2, 8, 5.5, [\"a\",\"b\"]]\n",
        "\n",
        "var12 = lista2[4]\n",
        "print(var12)\n",
        "var13 = var12[1]\n",
        "print(var13, lista2[4][0])\n",
        "\n",
        "#Quiero que el output sea \"b\"\n",
        "#print(var13)\n",
        "\n",
        "# Output = > b\n",
        "#print(lista2[4][1])\n",
        "\n",
        "# output => 8\n",
        "#print(lista2[2])"
      ]
    },
    {
      "cell_type": "code",
      "execution_count": null,
      "metadata": {
        "colab": {
          "base_uri": "https://localhost:8080/"
        },
        "id": "zYmVJYgreBM2",
        "outputId": "5e6d53e5-9cbb-4e4d-9686-fd71ebb11d30"
      },
      "outputs": [
        {
          "name": "stdout",
          "output_type": "stream",
          "text": [
            "b\n"
          ]
        }
      ],
      "source": [
        "lista2 = [1,2,[\"a\",\"b\"],5.5]\n",
        "\n",
        "#var12 = lista2[2]\n",
        "var13 = lista2[2][1]\n",
        "\n",
        "print(var13)\n",
        "#Quiero que el output sea \"b\""
      ]
    },
    {
      "cell_type": "markdown",
      "metadata": {
        "id": "yOWR-wxViYIG"
      },
      "source": [
        "Las listas son mutables"
      ]
    },
    {
      "cell_type": "code",
      "execution_count": null,
      "metadata": {
        "colab": {
          "base_uri": "https://localhost:8080/"
        },
        "id": "7Znjaa5XiX2Z",
        "outputId": "d32f0804-0306-4422-de7b-c63a706717f3"
      },
      "outputs": [
        {
          "name": "stdout",
          "output_type": "stream",
          "text": [
            "[1, 3.5, 'Hola']\n",
            "[1, 3.5, 8]\n"
          ]
        }
      ],
      "source": [
        "        #0  1     2\n",
        "lista = [1,3.5,\"Hola\"]\n",
        "print(lista)\n",
        "lista[2] = 8\n",
        "print(lista)"
      ]
    },
    {
      "cell_type": "markdown",
      "metadata": {
        "id": "eDM_uBkViWiv"
      },
      "source": [
        "**Tuplas en Python**\n",
        "\n",
        "* Son contenedores heterogéneos y inmutables.\n",
        "  -  Heterogéneo => Puede almacenar disitintos tipos de datos\n",
        " -  Inmutable => No puede cambiar de elementos\n",
        "* Se definen con paréntesis ( )"
      ]
    },
    {
      "cell_type": "code",
      "execution_count": null,
      "metadata": {
        "colab": {
          "base_uri": "https://localhost:8080/"
        },
        "id": "OAdbGTvSevpD",
        "outputId": "3b705957-a93f-45dd-c958-5b64559867a8"
      },
      "outputs": [
        {
          "data": {
            "text/plain": [
              "tuple"
            ]
          },
          "execution_count": 41,
          "metadata": {},
          "output_type": "execute_result"
        }
      ],
      "source": [
        "tupla = (\"Hola\",1,1.5)\n",
        "type(tupla)"
      ]
    },
    {
      "cell_type": "markdown",
      "metadata": {
        "id": "nmzl9gxcT9HU"
      },
      "source": [
        "* Accedemos a los elementos de una tupla de forma similar que con una lista"
      ]
    },
    {
      "cell_type": "code",
      "execution_count": null,
      "metadata": {
        "colab": {
          "base_uri": "https://localhost:8080/"
        },
        "id": "gevB8iozUBzy",
        "outputId": "6b2ddf94-2565-4183-ef85-9627ced0551f"
      },
      "outputs": [
        {
          "name": "stdout",
          "output_type": "stream",
          "text": [
            "Hola\n"
          ]
        }
      ],
      "source": [
        "#          0    1  2\n",
        "tupla = (\"Hola\",1,1.5)\n",
        "print(tupla[0])"
      ]
    },
    {
      "cell_type": "code",
      "execution_count": null,
      "metadata": {
        "colab": {
          "base_uri": "https://localhost:8080/",
          "height": 216
        },
        "id": "XQk71Ol7LQmg",
        "outputId": "76cf96dc-9ecd-4c0b-8940-33ad572cf90f"
      },
      "outputs": [
        {
          "name": "stdout",
          "output_type": "stream",
          "text": [
            "('Hola', 1, 1.5)\n"
          ]
        },
        {
          "ename": "TypeError",
          "evalue": "'tuple' object does not support item assignment",
          "output_type": "error",
          "traceback": [
            "\u001b[0;31m---------------------------------------------------------------------------\u001b[0m",
            "\u001b[0;31mTypeError\u001b[0m                                 Traceback (most recent call last)",
            "\u001b[0;32m<ipython-input-43-80299703ef75>\u001b[0m in \u001b[0;36m<cell line: 4>\u001b[0;34m()\u001b[0m\n\u001b[1;32m      2\u001b[0m \u001b[0mprint\u001b[0m\u001b[0;34m(\u001b[0m\u001b[0mtupla\u001b[0m\u001b[0;34m)\u001b[0m\u001b[0;34m\u001b[0m\u001b[0;34m\u001b[0m\u001b[0m\n\u001b[1;32m      3\u001b[0m \u001b[0;34m\u001b[0m\u001b[0m\n\u001b[0;32m----> 4\u001b[0;31m \u001b[0mtupla\u001b[0m\u001b[0;34m[\u001b[0m\u001b[0;36m1\u001b[0m\u001b[0;34m]\u001b[0m \u001b[0;34m=\u001b[0m \u001b[0;36m3\u001b[0m \u001b[0;31m# Este error se debe a que las tuplas son inmutables\u001b[0m\u001b[0;34m\u001b[0m\u001b[0;34m\u001b[0m\u001b[0m\n\u001b[0m\u001b[1;32m      5\u001b[0m \u001b[0mprint\u001b[0m\u001b[0;34m(\u001b[0m\u001b[0mtupla\u001b[0m\u001b[0;34m)\u001b[0m\u001b[0;34m\u001b[0m\u001b[0;34m\u001b[0m\u001b[0m\n",
            "\u001b[0;31mTypeError\u001b[0m: 'tuple' object does not support item assignment"
          ]
        }
      ],
      "source": [
        "tupla = (\"Hola\",1,1.5)\n",
        "print(tupla)\n",
        "\n",
        "tupla[1] = 3 # Este error se debe a que las tuplas son inmutables\n",
        "print(tupla)"
      ]
    },
    {
      "cell_type": "code",
      "execution_count": null,
      "metadata": {
        "colab": {
          "base_uri": "https://localhost:8080/"
        },
        "id": "J8L9qv5RVEMu",
        "outputId": "deb7b962-8355-41b4-cc80-0afc19626332"
      },
      "outputs": [
        {
          "name": "stdout",
          "output_type": "stream",
          "text": [
            "12\n"
          ]
        }
      ],
      "source": [
        "tupla = 12\n",
        "print(tupla)"
      ]
    },
    {
      "cell_type": "markdown",
      "metadata": {
        "id": "oP5Fo1WiMAk1"
      },
      "source": [
        "**Indexación negativa**\n",
        "\n",
        "* significa comenzar a contar desde el final.\n",
        "* -1 se refiere al último elemento.\n",
        "* -2 se refiere al penúltimo elemento, etc."
      ]
    },
    {
      "cell_type": "code",
      "execution_count": null,
      "metadata": {
        "colab": {
          "base_uri": "https://localhost:8080/"
        },
        "id": "PnPqObGAMMx_",
        "outputId": "e92be052-f1f8-46cf-8005-6847e6a56ce2"
      },
      "outputs": [
        {
          "name": "stdout",
          "output_type": "stream",
          "text": [
            "4\n",
            "b\n",
            "4\n",
            "b\n",
            "('a', 'b', 'c', 'd', 'f')\n"
          ]
        }
      ],
      "source": [
        "  #     -5 -4 -3 -2 -1\n",
        "  # idx  0  1  2  3  4\n",
        "lista = [1, 2, 3, 4, 5]\n",
        "tupla = ('a','b','c','d','f')\n",
        "\n",
        "# Indexación \"normal\"\n",
        "print(lista[3])\n",
        "print(tupla[1])\n",
        "\n",
        "# Indexación negativa  4 y b\n",
        "print(lista[-2])\n",
        "print(tupla[-4])\n",
        "print(tupla)"
      ]
    },
    {
      "cell_type": "code",
      "execution_count": null,
      "metadata": {
        "colab": {
          "base_uri": "https://localhost:8080/",
          "height": 216
        },
        "id": "H-MMtCFdVlok",
        "outputId": "2ca94013-5238-41f7-9660-f93b88a6ac98"
      },
      "outputs": [
        {
          "ename": "NameError",
          "evalue": "name 'a' is not defined",
          "output_type": "error",
          "traceback": [
            "\u001b[0;31m---------------------------------------------------------------------------\u001b[0m",
            "\u001b[0;31mNameError\u001b[0m                                 Traceback (most recent call last)",
            "\u001b[0;32m<ipython-input-45-59dbe27fd4f4>\u001b[0m in \u001b[0;36m<cell line: 3>\u001b[0;34m()\u001b[0m\n\u001b[1;32m      1\u001b[0m \u001b[0mlista\u001b[0m \u001b[0;34m=\u001b[0m \u001b[0;34m[\u001b[0m\u001b[0;36m1\u001b[0m\u001b[0;34m,\u001b[0m\u001b[0;36m2\u001b[0m\u001b[0;34m,\u001b[0m\u001b[0;36m3\u001b[0m\u001b[0;34m,\u001b[0m\u001b[0;36m4\u001b[0m\u001b[0;34m,\u001b[0m\u001b[0;36m5\u001b[0m\u001b[0;34m]\u001b[0m\u001b[0;34m\u001b[0m\u001b[0;34m\u001b[0m\u001b[0m\n\u001b[1;32m      2\u001b[0m \u001b[0mtupla\u001b[0m \u001b[0;34m=\u001b[0m \u001b[0;34m(\u001b[0m\u001b[0;34m'a'\u001b[0m\u001b[0;34m,\u001b[0m\u001b[0;34m'b'\u001b[0m\u001b[0;34m,\u001b[0m\u001b[0;34m'c'\u001b[0m\u001b[0;34m,\u001b[0m\u001b[0;34m'd'\u001b[0m\u001b[0;34m,\u001b[0m\u001b[0;34m'f'\u001b[0m\u001b[0;34m)\u001b[0m\u001b[0;34m\u001b[0m\u001b[0;34m\u001b[0m\u001b[0m\n\u001b[0;32m----> 3\u001b[0;31m \u001b[0mtupla\u001b[0m \u001b[0;34m=\u001b[0m \u001b[0;34m(\u001b[0m\u001b[0ma\u001b[0m\u001b[0;34m,\u001b[0m\u001b[0mb\u001b[0m\u001b[0;34m,\u001b[0m\u001b[0mc\u001b[0m\u001b[0;34m,\u001b[0m\u001b[0md\u001b[0m\u001b[0;34m,\u001b[0m\u001b[0mf\u001b[0m\u001b[0;34m)\u001b[0m \u001b[0;31m# Error de sintaxis las variables no están definidas\u001b[0m\u001b[0;34m\u001b[0m\u001b[0;34m\u001b[0m\u001b[0m\n\u001b[0m\u001b[1;32m      4\u001b[0m \u001b[0;34m\u001b[0m\u001b[0m\n\u001b[1;32m      5\u001b[0m \u001b[0;31m# Indexación \"normal\"\u001b[0m\u001b[0;34m\u001b[0m\u001b[0;34m\u001b[0m\u001b[0m\n",
            "\u001b[0;31mNameError\u001b[0m: name 'a' is not defined"
          ]
        }
      ],
      "source": [
        "lista = [1,2,3,4,5]\n",
        "tupla = ('a','b','c','d','f')\n",
        "tupla = (a,b,c,d,f) # Error de sintaxis las variables no están definidas\n",
        "\n",
        "# Indexación \"normal\"\n",
        "print(lista[0])\n",
        "print(tupla[0])\n",
        "\n",
        "# Indexación negativa\n",
        "print(lista[-5])\n",
        "print(tupla[-5])"
      ]
    },
    {
      "cell_type": "code",
      "execution_count": null,
      "metadata": {
        "colab": {
          "base_uri": "https://localhost:8080/"
        },
        "id": "b_rXR1U3l4QV",
        "outputId": "f9664e92-87c9-4be8-c2ee-be02080a6b0a"
      },
      "outputs": [
        {
          "name": "stdout",
          "output_type": "stream",
          "text": [
            "1\n",
            "0\n",
            "1\n",
            "0\n",
            "(0, 0, 0, 0, 0)\n"
          ]
        }
      ],
      "source": [
        "a=b=c=d=f = 0\n",
        "lista = [1,2,3,4,5]\n",
        "tupla = ('a','b','c','d','f')\n",
        "tupla = (a,b,c,d,f) # Error de sintaxis las variables no están definidas\n",
        "\n",
        "# Indexación \"normal\"\n",
        "print(lista[0])\n",
        "print(tupla[0])\n",
        "\n",
        "# Indexación negativa\n",
        "print(lista[-5])\n",
        "print(tupla[-5])\n",
        "print(tupla)"
      ]
    },
    {
      "cell_type": "code",
      "execution_count": null,
      "metadata": {
        "colab": {
          "base_uri": "https://localhost:8080/"
        },
        "id": "DIvUGl-VWWur",
        "outputId": "d69025b2-5f78-45fe-bbab-6814db38f568"
      },
      "outputs": [
        {
          "name": "stdout",
          "output_type": "stream",
          "text": [
            "1 <class 'int'>\n",
            "a <class 'str'>\n",
            "1\n",
            "a\n"
          ]
        }
      ],
      "source": [
        "lista = [1,2,3,4,5]\n",
        "tupla = ('a','b','c','d','f')\n",
        "a = 'a'\n",
        "b = 'b'\n",
        "c = 'c'\n",
        "d = 'd'\n",
        "f = 'f'\n",
        "tupla = (a,b,c,d,f)\n",
        "\n",
        "# Indexación \"normal\"\n",
        "print(lista[0], type(lista[0]))\n",
        "print(tupla[0], type(tupla[0]))\n",
        "\n",
        "# Indexación negativa\n",
        "print(lista[-5])\n",
        "print(tupla[-5])"
      ]
    },
    {
      "cell_type": "markdown",
      "metadata": {
        "id": "Cer12HMbMR5j"
      },
      "source": [
        "**Rango de índices**\n",
        "* Puedes seleccionar un rango de índices especificando dónde comenzar y dónde terminar el rango.\n",
        "* Al especificar un rango, el valor de retorno será una nueva lista/tupla con los elementos especificados."
      ]
    },
    {
      "cell_type": "code",
      "execution_count": null,
      "metadata": {
        "colab": {
          "base_uri": "https://localhost:8080/"
        },
        "id": "m8WPBHTUMSbz",
        "outputId": "3af7dfdf-a4dc-470d-ba5f-a7d535df5b69"
      },
      "outputs": [
        {
          "name": "stdout",
          "output_type": "stream",
          "text": [
            "[1, 2, 3]\n",
            "('a', 'b', 'c')\n",
            "[4, 5]\n"
          ]
        }
      ],
      "source": [
        "  #      -5  -4  -3  -2  -1\n",
        "  # idx   0   1   2   3   4\n",
        "lista = [ 1,  2,  3,  4,  5]\n",
        "tupla = ('a','b','c','d','f')\n",
        "\n",
        "# Indexación por rango\n",
        "print(lista[0:-2])  #  0:-2   =>  inclusive [0,2) no inclusive\n",
        "print(tupla[:3])    #   :3    =>  inclusive[0,3) no inclusive\n",
        "\n",
        "print(lista[3:])"
      ]
    },
    {
      "cell_type": "code",
      "execution_count": null,
      "metadata": {
        "colab": {
          "base_uri": "https://localhost:8080/"
        },
        "id": "V3pQH-OoZCtF",
        "outputId": "19be8fbf-3cdc-46fa-ba34-dadd2f3d8458"
      },
      "outputs": [
        {
          "name": "stdout",
          "output_type": "stream",
          "text": [
            "[1, 2, 3, 4, 5] <class 'list'>\n",
            "[3, 4, 5] <class 'list'>\n"
          ]
        }
      ],
      "source": [
        "      #  0  1  2  3  4\n",
        "lista = [1, 2, 3, 4, 5]\n",
        "tupla = ('a','b','c','d','f')\n",
        "\n",
        "subLista = lista[2:5]\n",
        "# Indexación por rango\n",
        "print(lista, type(lista))\n",
        "print(subLista, type(subLista))"
      ]
    },
    {
      "cell_type": "markdown",
      "metadata": {
        "id": "hmDI3j96LRHl"
      },
      "source": [
        "Para determinar cuántos elementos tiene una lista o tupla, puedes usar la función len()"
      ]
    },
    {
      "cell_type": "code",
      "execution_count": null,
      "metadata": {
        "colab": {
          "base_uri": "https://localhost:8080/"
        },
        "id": "pS2clKbELcxZ",
        "outputId": "a15a670f-49c7-4a7d-e4eb-4afece56d7d8"
      },
      "outputs": [
        {
          "name": "stdout",
          "output_type": "stream",
          "text": [
            "5\n",
            "5\n",
            "4\n"
          ]
        }
      ],
      "source": [
        "# Función  input            => [?] => output\n",
        "#  print   var, str, num    => [?] => imprime en consola el input\n",
        "#  type    var, str, num    => [?] => el tipo de dato del input\n",
        "#  len     var estructurado => [?] => la longitud (num de elementos) del input\n",
        "\n",
        "print(len(lista))\n",
        "print(len(tupla))\n",
        "\n",
        "\n",
        "var = 5.3\n",
        "print(len(\"hola\"))"
      ]
    },
    {
      "cell_type": "code",
      "execution_count": null,
      "metadata": {
        "colab": {
          "base_uri": "https://localhost:8080/"
        },
        "id": "p_ylM6vKnouM",
        "outputId": "4c7db82d-50f6-4ff2-af8c-404451c1ab04"
      },
      "outputs": [
        {
          "name": "stdout",
          "output_type": "stream",
          "text": [
            "<class 'int'>\n"
          ]
        },
        {
          "data": {
            "text/plain": [
              "0"
            ]
          },
          "execution_count": 48,
          "metadata": {},
          "output_type": "execute_result"
        }
      ],
      "source": [
        "a = -3\n",
        "print(type(a))\n",
        "\n",
        "a.imag"
      ]
    },
    {
      "cell_type": "code",
      "execution_count": null,
      "metadata": {
        "colab": {
          "base_uri": "https://localhost:8080/"
        },
        "id": "65f4Nst4rnPy",
        "outputId": "1757fc89-c46f-4241-f783-de2c567b212b"
      },
      "outputs": [
        {
          "data": {
            "text/plain": [
              "-3"
            ]
          },
          "execution_count": 49,
          "metadata": {},
          "output_type": "execute_result"
        }
      ],
      "source": [
        "a.numerator"
      ]
    },
    {
      "cell_type": "code",
      "execution_count": null,
      "metadata": {
        "id": "Rj8tHoQ8ocN_"
      },
      "outputs": [],
      "source": [
        "# Inmutable significa que NO SE PUEDE USAR EL operador de asignación '=' para un elemento que ya existe\n",
        "# en la tupla, no se puede asignar un elemento\n",
        "tupla = (1,2,3,1)\n",
        "tupla = (3,2.1,54)"
      ]
    },
    {
      "cell_type": "markdown",
      "metadata": {
        "id": "pOUq8lNWZ6Bh"
      },
      "source": [
        "Las listas, tuplas y otros tipos de datos estructurados tienen ciertas funciones que podemos usar directamente para realizar varias tareas.\n",
        "\n",
        "* Ejemplo: lista.append(~)"
      ]
    },
    {
      "cell_type": "code",
      "execution_count": null,
      "metadata": {
        "colab": {
          "base_uri": "https://localhost:8080/"
        },
        "id": "Kpme_3jGZ45S",
        "outputId": "919dd8ec-afcc-4484-9336-86c4ea039e50"
      },
      "outputs": [
        {
          "name": "stdout",
          "output_type": "stream",
          "text": [
            "[1, 3]\n",
            "[1, 3, 25]\n",
            "[]\n"
          ]
        }
      ],
      "source": [
        "lista = [1,3]\n",
        "print(lista)\n",
        "\n",
        "lista.append(25)\n",
        "print(lista)\n",
        "\n",
        "lista.clear()\n",
        "print(lista)"
      ]
    },
    {
      "cell_type": "markdown",
      "metadata": {
        "id": "kuEolb-gMxSt"
      },
      "source": [
        "## Operadores\n",
        "\n",
        "* Los operadores se utilizan para realizar operaciones sobre variables y valores.\n",
        "\n",
        "* Python divide los operadores en los siguientes grupos:\n",
        "  - Operadores aritméticos\n",
        "    - +,  -,  *, / , * *, //\n",
        "  - Operadores de Asignación\n",
        "    - =, +=, -=, *=, /=\n",
        "  - Operadores de comparación\n",
        "    - ==, !=, <, >, <=, >=\n",
        "  - Operadores lógicos\n",
        "   - and, or, not\n",
        "  - Operadores de identidad\n",
        "  - Operadores de membresía\n",
        "  - Operadores bit a bit"
      ]
    },
    {
      "cell_type": "code",
      "execution_count": null,
      "metadata": {
        "colab": {
          "base_uri": "https://localhost:8080/"
        },
        "id": "01fFqzLzNGHe",
        "outputId": "a06bf21d-cff1-48ab-e85e-27d3ea0ebf15"
      },
      "outputs": [
        {
          "name": "stdout",
          "output_type": "stream",
          "text": [
            "128 78 2575 4.12 4 1092727\n"
          ]
        }
      ],
      "source": [
        "var1 = 103\n",
        "var2 = 25\n",
        "\n",
        "suma = var1 + var2\n",
        "resta = var1 - var2\n",
        "multiplicacion = var1 * var2\n",
        "division = var1 / var2\n",
        "divisonTruncada = var1//var2\n",
        "potencia = var1**3 # var2 elevado al cuadrado\n",
        "\n",
        "print(suma, resta, multiplicacion, division, divisonTruncada, potencia)"
      ]
    },
    {
      "cell_type": "code",
      "execution_count": null,
      "metadata": {
        "colab": {
          "base_uri": "https://localhost:8080/"
        },
        "id": "yM4fiJeYe3kQ",
        "outputId": "d5b04c8e-3ad2-4261-8ba2-b818372980e1"
      },
      "outputs": [
        {
          "name": "stdout",
          "output_type": "stream",
          "text": [
            "[1, 2, 1, 2, 1, 2, 1, 2, 1, 2]\n"
          ]
        }
      ],
      "source": [
        "lista = [1,2]\n",
        "listaExtendida = lista*5 # Sobrecarga de operadores\n",
        "print(listaExtendida)"
      ]
    },
    {
      "cell_type": "markdown",
      "metadata": {
        "id": "XgGnW5ATjgXs"
      },
      "source": [
        "**Operaciones de asignación**"
      ]
    },
    {
      "cell_type": "code",
      "execution_count": null,
      "metadata": {
        "colab": {
          "base_uri": "https://localhost:8080/"
        },
        "id": "7d7qk4EyiJpS",
        "outputId": "19e03125-46a2-4a05-ac62-bb9b3638b7d3"
      },
      "outputs": [
        {
          "name": "stdout",
          "output_type": "stream",
          "text": [
            "5\n"
          ]
        }
      ],
      "source": [
        "var = 5\n",
        "print(var)"
      ]
    },
    {
      "cell_type": "code",
      "execution_count": null,
      "metadata": {
        "colab": {
          "base_uri": "https://localhost:8080/"
        },
        "id": "SN4WmAs4jpNX",
        "outputId": "cafc821b-7439-42da-d238-e0e9e594caf4"
      },
      "outputs": [
        {
          "name": "stdout",
          "output_type": "stream",
          "text": [
            "10\n"
          ]
        }
      ],
      "source": [
        "var = 8\n",
        "\n",
        "var += 2 # Equivalente var = var + 2\n",
        "print(var)"
      ]
    },
    {
      "cell_type": "markdown",
      "metadata": {
        "id": "Z-rwp1jMlYks"
      },
      "source": [
        "**Operadores de comparación y Entrada por teclado**"
      ]
    },
    {
      "cell_type": "code",
      "execution_count": null,
      "metadata": {
        "colab": {
          "base_uri": "https://localhost:8080/",
          "height": 109
        },
        "id": "KkeV1xrJkR1s",
        "outputId": "771c6534-9bd8-4c8d-93a6-a3c46e24c2bf"
      },
      "outputs": [
        {
          "ename": "SyntaxError",
          "evalue": "cannot assign to literal here. Maybe you meant '==' instead of '='? (<ipython-input-58-cddf0d973139>, line 1)",
          "output_type": "error",
          "traceback": [
            "\u001b[0;36m  File \u001b[0;32m\"<ipython-input-58-cddf0d973139>\"\u001b[0;36m, line \u001b[0;32m1\u001b[0m\n\u001b[0;31m    8=5\u001b[0m\n\u001b[0m    ^\u001b[0m\n\u001b[0;31mSyntaxError\u001b[0m\u001b[0;31m:\u001b[0m cannot assign to literal here. Maybe you meant '==' instead of '='?\n"
          ]
        }
      ],
      "source": [
        "8=5"
      ]
    },
    {
      "cell_type": "code",
      "execution_count": null,
      "metadata": {
        "colab": {
          "base_uri": "https://localhost:8080/"
        },
        "id": "jzzB66XuldT8",
        "outputId": "1c8e402a-27bc-42eb-d4e3-60282f465dbd"
      },
      "outputs": [
        {
          "name": "stdout",
          "output_type": "stream",
          "text": [
            "False\n",
            "True\n"
          ]
        }
      ],
      "source": [
        "var1 = 5\n",
        "var2 = 8\n",
        "\n",
        "print(var1==var2) # Es 8 igual a 5 ?\n",
        "\n",
        "print(var1 < var2)"
      ]
    },
    {
      "cell_type": "code",
      "execution_count": null,
      "metadata": {
        "colab": {
          "base_uri": "https://localhost:8080/"
        },
        "id": "taN9S9u1leve",
        "outputId": "23f3324e-24b8-4e38-eeb6-eccd2ffc4170"
      },
      "outputs": [
        {
          "name": "stdout",
          "output_type": "stream",
          "text": [
            "5\n"
          ]
        }
      ],
      "source": [
        "# Operador *=\n",
        "\n",
        "var = 1\n",
        "var = var * 5 # Equivalente a var *= 5\n",
        "print(var)"
      ]
    },
    {
      "cell_type": "code",
      "execution_count": null,
      "metadata": {
        "colab": {
          "base_uri": "https://localhost:8080/"
        },
        "id": "5s8UsJw8Y9jQ",
        "outputId": "496ace3e-16ab-46e8-a34a-10076948f9d5"
      },
      "outputs": [
        {
          "name": "stdout",
          "output_type": "stream",
          "text": [
            "Ingresa un número: \n"
          ]
        }
      ],
      "source": [
        "# Entrada por teclado\n",
        "var = input(\"Ingresa un número: \")\n",
        "#var = float(var)"
      ]
    },
    {
      "cell_type": "code",
      "execution_count": null,
      "metadata": {
        "colab": {
          "base_uri": "https://localhost:8080/"
        },
        "id": "gzVmv6Rdvj0I",
        "outputId": "6767155b-08fa-4c54-a49e-3706d4685153"
      },
      "outputs": [
        {
          "name": "stdout",
          "output_type": "stream",
          "text": [
            "<class 'str'>\n"
          ]
        }
      ],
      "source": [
        "print(type(var))"
      ]
    },
    {
      "cell_type": "code",
      "execution_count": null,
      "metadata": {
        "colab": {
          "base_uri": "https://localhost:8080/"
        },
        "id": "I-qH46ctZJjE",
        "outputId": "822000b3-7d9a-4302-f897-13682a8bf5b5"
      },
      "outputs": [
        {
          "name": "stdout",
          "output_type": "stream",
          "text": [
            "8.0 <class 'float'>\n"
          ]
        }
      ],
      "source": [
        "print(var, type(var))"
      ]
    },
    {
      "cell_type": "markdown",
      "metadata": {
        "id": "dRnFjixAd0ga"
      },
      "source": [
        "#Ejercicios"
      ]
    },
    {
      "cell_type": "markdown",
      "metadata": {
        "id": "wWCRAV3Ad7cf"
      },
      "source": [
        "1. Escribe un programa que lea 2 números por teclado y determine si:\n",
        "\n",
        "- Los dos números son iguales\n",
        "- Los dos números son diferentes\n",
        "- El primero es mayor que el segundo\n",
        "- El segundo es mayor o igual que el primero"
      ]
    },
    {
      "cell_type": "code",
      "execution_count": 1,
      "metadata": {
        "id": "p88PWSvYZcZe"
      },
      "outputs": [
        {
          "name": "stdout",
          "output_type": "stream",
          "text": [
            "num1 menor que num 2\n"
          ]
        }
      ],
      "source": [
        "num1 = input()\n",
        "num2 = input()\n",
        "val1 = (int(num1) > int(num2))\n",
        "\n",
        "if val1:\n",
        " print(\"num1 mayor que num 2\")\n",
        "else:\n",
        " print(\"num1 menor que num 2\")\n"
      ]
    },
    {
      "cell_type": "markdown",
      "metadata": {
        "id": "ZpkLUvVDd_N0"
      },
      "source": [
        "2. Usa operadores lógicos para validar si una cadena de texto introducida por teclado tiene una longitud mayor o igual que 3 y *al mismo tiempo* es menor que 10."
      ]
    },
    {
      "cell_type": "code",
      "execution_count": 13,
      "metadata": {
        "id": "NGT3JjKZNSp_"
      },
      "outputs": [
        {
          "name": "stdout",
          "output_type": "stream",
          "text": [
            "la longitud del string no esta entre 3 y 10\n"
          ]
        }
      ],
      "source": [
        "num = input()\n",
        "if len(num) >= 3 and len(num)< 10:  \n",
        " print(\"la longitud del string esta entre 3 y 10\")\n",
        "else:\n",
        "\n",
        " print(\"la longitud del string no esta entre 3 y 10\")"
      ]
    },
    {
      "cell_type": "markdown",
      "metadata": {
        "id": "bHkaSHl-eAQQ"
      },
      "source": [
        "3. Implementa el siguiente algoritmo. Recuerda usar operadores de asignación cuando sea posible:\n",
        "\n",
        "- Guardar en una variable *numero_magico* el valor 12345679 (sin el 8)\n",
        "- Leer por teclado otro *numero_usuario*, especifica que sea entre 1 y 9\n",
        "- Multiplicar el *numero_usuario* por 9 y almacena el resultado en la misma variable\n",
        "- Multiplica el *numero_magico* por el *numero_usuario* y almacena el resultado en la misma variable, *numero_magico*\n",
        "- Mostrar el valor final en *numero_magico* en la consola"
      ]
    },
    {
      "cell_type": "code",
      "execution_count": 16,
      "metadata": {
        "id": "lb-9bDzvNUGz"
      },
      "outputs": [
        {
          "name": "stdout",
          "output_type": "stream",
          "text": [
            "1371742109739369\n"
          ]
        }
      ],
      "source": [
        "num_magico = 12345679\n",
        "num2 = input(\"Introduce un numero entre 1-9\")\n",
        "num2 = num_magico * 9 \n",
        "num_magico = num2 * num_magico\n",
        "print(num_magico)\n"
      ]
    },
    {
      "cell_type": "markdown",
      "metadata": {
        "id": "8H-5HJOFNX5T"
      },
      "source": [
        "4. Variables\n",
        "\n",
        " 1. Declara tres variables llamadas `a`, `b`, y `c` e inicialízalas con valores numéricos.\n",
        " 2. Realiza las siguientes operaciones y almacena los resultados en nuevas variables:\n",
        "    - Suma `a` y `b`, guarda el resultado en una variable llamada `suma_resultado`.\n",
        "    - Resta `c` de `a`, guarda el resultado en una variable llamada `resta_resultado`.\n",
        "    - Multiplica `b` por `c`, guarda el resultado en una variable llamada `multiplicacion_resultado`.\n",
        " 3. Imprime los resultados de cada operación de la siguiente manera:\n",
        "    - \"La suma de a y b es: [resultado suma]\"\n",
        "    - \"La resta de a y c es: [resultado resta]\"\n",
        "    - \"El resultado de multiplicar b por c es: [resultado multiplicación]\""
      ]
    },
    {
      "cell_type": "code",
      "execution_count": 18,
      "metadata": {
        "id": "dLGD3vZINZl2"
      },
      "outputs": [
        {
          "name": "stdout",
          "output_type": "stream",
          "text": [
            "la suma de los resultados es:  7\n",
            "la resta de los resultados es:  -2\n",
            "la multiplicacion de los resultados es:  4\n"
          ]
        }
      ],
      "source": [
        "a, b, c = 3,4,1\n",
        "suma_resultado = a + b\n",
        "resta_resultado = c - a\n",
        "multiplicacion_resultado = b * c\n",
        "print(\"la suma de los resultados es: \", suma_resultado)\n",
        "print(\"la resta de los resultados es: \", resta_resultado)\n",
        "print(\"la multiplicacion de los resultados es: \", multiplicacion_resultado)"
      ]
    },
    {
      "cell_type": "markdown",
      "metadata": {
        "id": "6u6BUNv3gIuW"
      },
      "source": [
        "5. Selecciona qué nombres de variables son inválidos, y especifíca el porqué, y corrige el nombre de la variable:\n",
        "```python\n",
        "my var = \"John\" #tiene espacio\n",
        "myvar = 23 #correcto\n",
        "my_var = \"str\" # correcto\n",
        "2myvar = 3.25 # empieza con numero\n",
        "_my_var = (1,3,2) #correcto\n",
        "myVar = 48 #correcto\n",
        "MYVAR = \"cadena\" #correcto\n",
        "my-var = [1,5] #tiene \"-\"\n",
        "myvar2 = [] #correcto\n",
        "```"
      ]
    },
    {
      "cell_type": "markdown",
      "metadata": {
        "id": "iqDXCw_7lhzK"
      },
      "source": [
        "6. Corrige el nombre de esta variable:\n",
        "```python\n",
        "2my-first_name = \"John\"\n",
        "```"
      ]
    },
    {
      "cell_type": "code",
      "execution_count": 17,
      "metadata": {
        "id": "bhQfU_WmcTHM"
      },
      "outputs": [],
      "source": [
        "my_first_name = \"John\""
      ]
    }
  ],
  "metadata": {
    "colab": {
      "provenance": []
    },
    "kernelspec": {
      "display_name": "Python 3",
      "name": "python3"
    },
    "language_info": {
      "codemirror_mode": {
        "name": "ipython",
        "version": 3
      },
      "file_extension": ".py",
      "mimetype": "text/x-python",
      "name": "python",
      "nbconvert_exporter": "python",
      "pygments_lexer": "ipython3",
      "version": "3.10.10"
    }
  },
  "nbformat": 4,
  "nbformat_minor": 0
}
