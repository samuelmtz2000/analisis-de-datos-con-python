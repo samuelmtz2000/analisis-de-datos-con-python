{
  "cells": [
    {
      "cell_type": "markdown",
      "metadata": {
        "id": "2L9y2mSyAdIg"
      },
      "source": [
        "**Cuándo y cómo usar los ciclos en Python**\n",
        "\n",
        "Existen dos tipos de instrucciones para repetir de forma cíclica un conjunto de instrucciones en Python:\n",
        "\n",
        "*   for\n",
        "*   while\n",
        "\n",
        "\n",
        "Los ciclos pueden llamarse bucles, ciclos o iteraciones.\n"
      ]
    },
    {
      "cell_type": "markdown",
      "metadata": {
        "id": "KwArD2ezdaBA"
      },
      "source": [
        "**Casos de uso de los ciclos (Tipos de Ciclos)**"
      ]
    },
    {
      "cell_type": "code",
      "execution_count": null,
      "metadata": {
        "colab": {
          "base_uri": "https://localhost:8080/"
        },
        "id": "NTv81f-_wscL",
        "outputId": "eeb72641-298e-4212-881a-00ecb77a648d"
      },
      "outputs": [
        {
          "name": "stdout",
          "output_type": "stream",
          "text": [
            "0\n",
            "1\n",
            "2\n",
            "3\n",
            "4\n",
            "5\n",
            "6\n",
            "7\n",
            "8\n",
            "9\n"
          ]
        }
      ],
      "source": [
        "# Ciclo contado usando range(n:int)\n",
        "for i in range(0,10,1):\n",
        "  print(i)"
      ]
    },
    {
      "cell_type": "code",
      "execution_count": null,
      "metadata": {
        "colab": {
          "base_uri": "https://localhost:8080/"
        },
        "id": "gg1XXl26w-MR",
        "outputId": "0d5e2a5f-9c62-4a28-b8be-410148060172"
      },
      "outputs": [
        {
          "name": "stdout",
          "output_type": "stream",
          "text": [
            "2.0\n",
            "2.5\n"
          ]
        }
      ],
      "source": [
        "import numpy as np\n",
        "# Ciclo contado usando range(n:int)\n",
        "for i in np.arange(2,3,0.50):\n",
        "  print(i)"
      ]
    },
    {
      "cell_type": "code",
      "execution_count": null,
      "metadata": {
        "colab": {
          "base_uri": "https://localhost:8080/"
        },
        "id": "LsQ3fYCPdagA",
        "outputId": "618c4499-8785-48d8-ce53-d2c1ec425c46"
      },
      "outputs": [
        {
          "name": "stdout",
          "output_type": "stream",
          "text": [
            "a\n",
            "e\n",
            "i\n",
            "o\n",
            "u\n"
          ]
        }
      ],
      "source": [
        "# Nombre   input    => [?]  => output\n",
        "# range    int, n   => [?]  => iterable 0 <-> n-1\n",
        "\n",
        "# Ciclo contado usando range(n:int)\n",
        "# for i in range(5):\n",
        "#   print(i)\n",
        "\n",
        "# Ciclo iterador sobre un contendor tipo lista\n",
        "vocales = ['a', 'e', 'i', 'o', 'u']\n",
        "for vocal in vocales:\n",
        "  print(vocal)"
      ]
    },
    {
      "cell_type": "code",
      "execution_count": null,
      "metadata": {
        "id": "BohJQB2Xfz2e"
      },
      "outputs": [],
      "source": [
        "# Ciclo evaluado - No sé de antemano cuántas veces se va a ejecutar\n",
        "num = 21\n",
        "while num%2:\n",
        "  num = int(input(\"Ingresa un número: \"))\n",
        "\n",
        "# Ciclo infinito - Para detenerlo haz clic otra vez en el botón de play\n",
        "while True:\n",
        "  print(\"Imprime esto infinitamente\")"
      ]
    },
    {
      "cell_type": "code",
      "execution_count": null,
      "metadata": {
        "colab": {
          "base_uri": "https://localhost:8080/"
        },
        "id": "VbAjODDKgc8k",
        "outputId": "579750af-5fee-47ea-a0fd-83cf9b853c73"
      },
      "outputs": [
        {
          "data": {
            "text/plain": [
              "False"
            ]
          },
          "execution_count": 5,
          "metadata": {},
          "output_type": "execute_result"
        }
      ],
      "source": [
        "bool(100%2)"
      ]
    },
    {
      "cell_type": "code",
      "execution_count": null,
      "metadata": {
        "colab": {
          "base_uri": "https://localhost:8080/"
        },
        "id": "XCdirvSAgj7y",
        "outputId": "49805578-62e7-4763-fb4f-5a2cc218edfd"
      },
      "outputs": [
        {
          "data": {
            "text/plain": [
              "0"
            ]
          },
          "execution_count": 6,
          "metadata": {},
          "output_type": "execute_result"
        }
      ],
      "source": [
        "98%2"
      ]
    },
    {
      "cell_type": "code",
      "execution_count": null,
      "metadata": {
        "colab": {
          "base_uri": "https://localhost:8080/"
        },
        "id": "J9U8qft4gmGL",
        "outputId": "faca09aa-fb38-4681-9580-8ba9a0127591"
      },
      "outputs": [
        {
          "data": {
            "text/plain": [
              "True"
            ]
          },
          "execution_count": 8,
          "metadata": {},
          "output_type": "execute_result"
        }
      ],
      "source": [
        "bool(73%2)"
      ]
    },
    {
      "cell_type": "code",
      "execution_count": null,
      "metadata": {
        "id": "lLvze1QDgokH"
      },
      "outputs": [],
      "source": [
        "15%2"
      ]
    },
    {
      "cell_type": "code",
      "execution_count": null,
      "metadata": {
        "id": "kTv8kPRbg-Pw"
      },
      "outputs": [],
      "source": [
        "False == 0"
      ]
    },
    {
      "cell_type": "code",
      "execution_count": null,
      "metadata": {
        "id": "_YBK2ZPGhBov"
      },
      "outputs": [],
      "source": [
        "True == 1"
      ]
    },
    {
      "cell_type": "markdown",
      "metadata": {
        "id": "LDnIMIhWWhH7"
      },
      "source": [
        "# Ciclos *while*\n",
        "\n",
        "Con el ciclo while podemos ejecutar un conjunto de declaraciones siempre que una condición sea verdadera."
      ]
    },
    {
      "cell_type": "code",
      "execution_count": null,
      "metadata": {
        "colab": {
          "base_uri": "https://localhost:8080/"
        },
        "id": "c6HLx5nOWr4J",
        "outputId": "4e0887ee-474a-4c6f-c431-be903d97dafa"
      },
      "outputs": [
        {
          "name": "stdout",
          "output_type": "stream",
          "text": [
            "15\n"
          ]
        }
      ],
      "source": [
        "# Problema: Sumar los elementos de una lista\n",
        "lista = [1,2,3,4,5]\n",
        "suma = lista[0] + lista[1] + lista[2] + lista[3] + lista[4] # Fuerza bruta\n",
        "print(suma)"
      ]
    },
    {
      "cell_type": "code",
      "execution_count": null,
      "metadata": {
        "colab": {
          "base_uri": "https://localhost:8080/"
        },
        "id": "ra1n_ouhmw62",
        "outputId": "40927698-218c-4bf3-c466-16651c2c8249"
      },
      "outputs": [
        {
          "name": "stdout",
          "output_type": "stream",
          "text": [
            "15\n"
          ]
        }
      ],
      "source": [
        "indice = 0\n",
        "suma = 0\n",
        "while indice <= 4:\n",
        "  suma += lista[indice] # suma = suma + lista[indice]\n",
        "  indice += 1 # Equivalente indice = indice + 1\n",
        "print(suma)"
      ]
    },
    {
      "cell_type": "markdown",
      "metadata": {
        "id": "pB2FvqgYWzwp"
      },
      "source": [
        "Nota: recuerda incrementar el índice, de lo contrario el ciclo continuará para siempre."
      ]
    },
    {
      "cell_type": "code",
      "execution_count": null,
      "metadata": {
        "colab": {
          "base_uri": "https://localhost:8080/"
        },
        "id": "T8p2C61KkCgv",
        "outputId": "be1318f8-1c92-4ab6-c46e-ba7c11eb5142"
      },
      "outputs": [
        {
          "name": "stdout",
          "output_type": "stream",
          "text": [
            "15\n"
          ]
        }
      ],
      "source": [
        "suma = 0\n",
        "for num in lista:\n",
        "  suma += num\n",
        "\n",
        "print(suma)"
      ]
    },
    {
      "cell_type": "markdown",
      "metadata": {
        "id": "p3glBwxPW6V2"
      },
      "source": [
        "**La instrucción break**\n",
        "\n",
        "Con la sentencia break podemos detener el ciclo incluso si la condición while es verdadera:"
      ]
    },
    {
      "cell_type": "code",
      "execution_count": null,
      "metadata": {
        "colab": {
          "base_uri": "https://localhost:8080/"
        },
        "id": "Z3ObdRu7XE0X",
        "outputId": "de91cc5f-e879-42ba-e788-a0626593458b"
      },
      "outputs": [
        {
          "name": "stdout",
          "output_type": "stream",
          "text": [
            "Ejecución dentro del while:  mango\n",
            "0\n"
          ]
        }
      ],
      "source": [
        "lista = [\"mango\", \"mandarina\", \"naranja\", \"pera\"]\n",
        "\n",
        "numIteraciones = len(lista)\n",
        "i = 0\n",
        "\n",
        "while i<numIteraciones:\n",
        "  print(\"Ejecución dentro del while: \", lista[i])\n",
        "  break\n",
        "  i += 1\n",
        "  #break\n",
        "\n",
        "print(i)"
      ]
    },
    {
      "cell_type": "code",
      "execution_count": null,
      "metadata": {
        "colab": {
          "base_uri": "https://localhost:8080/"
        },
        "id": "NGPCC0SkrdxR",
        "outputId": "6544c992-0abe-4736-fc6f-ed933853e142"
      },
      "outputs": [
        {
          "name": "stdout",
          "output_type": "stream",
          "text": [
            "mango\n",
            "mandarina\n",
            "naranja\n"
          ]
        }
      ],
      "source": [
        "#Quiero detenerme cuando aparezca la naranaja\n",
        "lista = [\"mango\", \"mandarina\", \"naranja\", \"pera\"]\n",
        "\n",
        "numIteraciones = len(lista)\n",
        "i = 0 # a veces recibe el nombre de iterador o contador\n",
        "\n",
        "while i<numIteraciones:\n",
        "  print(lista[i])\n",
        "  if lista[i] == \"naranja\":\n",
        "    break\n",
        "  i += 1"
      ]
    },
    {
      "cell_type": "markdown",
      "metadata": {
        "id": "oJRsAiqNXFaW"
      },
      "source": [
        "**La instrucción continue**\n",
        "\n",
        "Con la declaración continue podemos detener la iteración actual y continuar con la siguiente:"
      ]
    },
    {
      "cell_type": "code",
      "execution_count": null,
      "metadata": {
        "id": "cTr9_KwwXF9E"
      },
      "outputs": [],
      "source": [
        "#Quiero saltar cuando aparezca la naranaja\n",
        "lista = [\"mango\", \"mandarina\", \"naranja\", \"pera\", \"Palta\", \"Arazá\"]\n",
        "\n",
        "numIteraciones = len(lista)\n",
        "i = 0 # a veces recibe el nombre de iterador o contador\n",
        "\n",
        "while i<numIteraciones:\n",
        "  print(lista[i])\n",
        "  if lista[i] == \"naranja\":\n",
        "    i += 1\n",
        "    continue\n",
        "  i += 1"
      ]
    },
    {
      "cell_type": "code",
      "execution_count": null,
      "metadata": {
        "colab": {
          "base_uri": "https://localhost:8080/"
        },
        "id": "SSgqNcD4w81L",
        "outputId": "4015feca-eece-4b8f-acaa-fde95fe05888"
      },
      "outputs": [
        {
          "name": "stdout",
          "output_type": "stream",
          "text": [
            "1\n",
            "2\n",
            "4\n",
            "5\n"
          ]
        }
      ],
      "source": [
        "i = 0\n",
        "\n",
        "while i < 5:\n",
        "  i += 1\n",
        "  if i == 3:\n",
        "    continue\n",
        "  print(i)"
      ]
    },
    {
      "cell_type": "code",
      "execution_count": null,
      "metadata": {
        "colab": {
          "base_uri": "https://localhost:8080/"
        },
        "id": "dnaNWcZ2qmLx",
        "outputId": "fc198ef1-c1a5-4354-f0c9-a46d11401077"
      },
      "outputs": [
        {
          "name": "stdout",
          "output_type": "stream",
          "text": [
            "1\n",
            "2\n",
            "3\n",
            "4\n",
            "5\n"
          ]
        }
      ],
      "source": [
        "i = 0\n",
        "\n",
        "while i < 5:\n",
        "  i += 1\n",
        "  print(i)\n",
        "  continue"
      ]
    },
    {
      "cell_type": "code",
      "execution_count": null,
      "metadata": {
        "colab": {
          "base_uri": "https://localhost:8080/"
        },
        "id": "f9gl5Pzctfas",
        "outputId": "36dd555e-f77c-4ff5-c356-fc52059c0a9c"
      },
      "outputs": [
        {
          "name": "stdout",
          "output_type": "stream",
          "text": [
            "1\n",
            "2\n"
          ]
        }
      ],
      "source": [
        "i = 0\n",
        "\n",
        "while i < 5:\n",
        "  i += 1\n",
        "  if i == 3:\n",
        "    break\n",
        "  print(i)\n",
        "else:\n",
        "  print(\"Fin del while\")"
      ]
    },
    {
      "cell_type": "markdown",
      "metadata": {
        "id": "-jLf1vBdXGaB"
      },
      "source": [
        "La instrucción else\n",
        "\n",
        "Con la instrucción else podemos ejecutar un bloque de código una vez cuando la condición ya no es verdadera:"
      ]
    },
    {
      "cell_type": "code",
      "execution_count": null,
      "metadata": {
        "colab": {
          "base_uri": "https://localhost:8080/"
        },
        "id": "PC45IsR5aB6r",
        "outputId": "faeab088-629e-4400-9323-fa2426028c25"
      },
      "outputs": [
        {
          "name": "stdout",
          "output_type": "stream",
          "text": [
            "1\n",
            "2\n",
            "3\n",
            "4\n",
            "5\n",
            "Fin del while\n"
          ]
        }
      ],
      "source": [
        "i = 0\n",
        "\n",
        "while i < 5:\n",
        "  i += 1\n",
        "  print(i)\n",
        "else:\n",
        "  print(\"Fin del while\")\n"
      ]
    },
    {
      "cell_type": "code",
      "execution_count": null,
      "metadata": {
        "colab": {
          "base_uri": "https://localhost:8080/"
        },
        "id": "smX8y6MMx0Qc",
        "outputId": "ceefbc14-8c6e-48f3-f85a-93d619d65073"
      },
      "outputs": [
        {
          "name": "stdout",
          "output_type": "stream",
          "text": [
            "1\n",
            "2\n"
          ]
        }
      ],
      "source": [
        "i = 0\n",
        "\n",
        "while i < 5:\n",
        "  i += 1\n",
        "  if i == 3:\n",
        "    break\n",
        "  print(i)\n",
        "else:\n",
        "  print(\"me quedé en i = \", i)"
      ]
    },
    {
      "cell_type": "markdown",
      "metadata": {
        "id": "8QqZAVOuT6AF"
      },
      "source": [
        "# Ciclos for\n",
        "\n",
        "Un ciclo *for* se usa para iterar sobre una secuencia que puede ser una lista, una tupla, un diccionario, un conjunto o un string.\n",
        "\n",
        "Con el bucle for podemos ejecutar un conjunto de declaraciones, una vez para cada elemento de una lista, tupla, conjunto, etc."
      ]
    },
    {
      "cell_type": "code",
      "execution_count": null,
      "metadata": {
        "colab": {
          "base_uri": "https://localhost:8080/"
        },
        "id": "Zid_KEHpUtiQ",
        "outputId": "ecc5750f-a7fc-4f24-f2d0-b04c28dceaba"
      },
      "outputs": [
        {
          "name": "stdout",
          "output_type": "stream",
          "text": [
            "perro\n",
            "gato\n",
            "ratón\n",
            "perico\n"
          ]
        }
      ],
      "source": [
        "lista = [\"perro\",\"gato\",\"ratón\",\"perico\"]\n",
        "i = 0 # No es necesario este índice (iterador o contador)\n",
        "for animal in lista:\n",
        "  print(animal)"
      ]
    },
    {
      "cell_type": "code",
      "execution_count": null,
      "metadata": {
        "colab": {
          "base_uri": "https://localhost:8080/"
        },
        "id": "188TcQZmGZdK",
        "outputId": "c6580c66-09db-4e04-959f-fffe2849df2e"
      },
      "outputs": [
        {
          "name": "stdout",
          "output_type": "stream",
          "text": [
            "0\n",
            "1\n",
            "2\n"
          ]
        }
      ],
      "source": [
        "for i in range(3):\n",
        "  print(i)"
      ]
    },
    {
      "cell_type": "code",
      "execution_count": null,
      "metadata": {
        "colab": {
          "base_uri": "https://localhost:8080/"
        },
        "id": "kRX87ayCGhaa",
        "outputId": "6d3b5b3b-d82d-44d1-ab57-0fa8be04d2c7"
      },
      "outputs": [
        {
          "name": "stdout",
          "output_type": "stream",
          "text": [
            "3\n",
            "5\n",
            "7\n",
            "9\n"
          ]
        }
      ],
      "source": [
        "for i in range(3,10,2):\n",
        "  print(i)"
      ]
    },
    {
      "cell_type": "markdown",
      "metadata": {
        "id": "KGH1h-MiU_gl"
      },
      "source": [
        "**La instrucción *break***\n",
        "\n",
        "* Con la instrucción break podemos detener el ciclo antes de que haya pasado por todos los elementos:"
      ]
    },
    {
      "cell_type": "code",
      "execution_count": null,
      "metadata": {
        "colab": {
          "base_uri": "https://localhost:8080/"
        },
        "id": "ASJ-bzwzVG_w",
        "outputId": "dc9ebe84-f9d7-4357-e38d-dcc9df65020c"
      },
      "outputs": [
        {
          "name": "stdout",
          "output_type": "stream",
          "text": [
            "perro\n",
            "gato\n",
            "Terminé el ciclo\n"
          ]
        }
      ],
      "source": [
        "lista = [\"perro\",\"gato\",\"ratón\",\"perico\"]\n",
        "i = 0\n",
        "for animal in lista:\n",
        "  print(animal)\n",
        "  if animal == \"gato\":\n",
        "    break\n",
        "print(\"Terminé el ciclo\")"
      ]
    },
    {
      "cell_type": "markdown",
      "metadata": {
        "id": "wRyc9Lh6VHqJ"
      },
      "source": [
        "**La instrucción *continue***\n",
        "\n",
        "Con la instrucción continue podemos detener la iteración actual del ciclo y continuar con la siguiente:"
      ]
    },
    {
      "cell_type": "code",
      "execution_count": null,
      "metadata": {
        "colab": {
          "base_uri": "https://localhost:8080/"
        },
        "id": "zslC1cZBVZ3S",
        "outputId": "f2dde3cd-0ebc-4218-e523-a4ddce7ce7eb"
      },
      "outputs": [
        {
          "name": "stdout",
          "output_type": "stream",
          "text": [
            "perro\n",
            "gato\n",
            "ratón\n"
          ]
        }
      ],
      "source": [
        "lista = [\"perro\",\"gato\",\"ratón\",\"perico\"]\n",
        "i = 0\n",
        "for animal in lista:\n",
        "  if animal == \"ratón\":\n",
        "    continue\n",
        "  print(animal)"
      ]
    },
    {
      "cell_type": "markdown",
      "metadata": {
        "id": "WFYUoEk_VenC"
      },
      "source": [
        "**La función *range ()***\n",
        "\n",
        "* Para recorrer un conjunto de código un número específico de veces, podemos usar la función range (),\n",
        "* La función range () devuelve una secuencia de números, comenzando desde 0 de forma predeterminada, se incrementa en 1 (de forma predeterminada) y termina en un número especificado."
      ]
    },
    {
      "cell_type": "code",
      "execution_count": null,
      "metadata": {
        "colab": {
          "base_uri": "https://localhost:8080/"
        },
        "id": "_V4TAMomVs93",
        "outputId": "d0579e0c-9650-4b49-8e8b-cefb54c8e8e2"
      },
      "outputs": [
        {
          "name": "stdout",
          "output_type": "stream",
          "text": [
            "0\n",
            "1\n",
            "2\n",
            "3\n",
            "4\n"
          ]
        }
      ],
      "source": [
        "for i in range(5): # incio = 0, fin = 5-1 (no inclusive)\n",
        "  print(i)"
      ]
    },
    {
      "cell_type": "code",
      "execution_count": null,
      "metadata": {
        "colab": {
          "base_uri": "https://localhost:8080/"
        },
        "id": "RvXBlp_wOs8b",
        "outputId": "44a874bf-3184-45e4-b0e6-8d3d6da48a5b"
      },
      "outputs": [
        {
          "name": "stdout",
          "output_type": "stream",
          "text": [
            "6\n",
            "7\n",
            "8\n",
            "9\n"
          ]
        }
      ],
      "source": [
        "for i in range(6,10): # inicio=6 fin=10-1  =>5 inclusive   10 no inclusive\n",
        "  print(i)"
      ]
    },
    {
      "cell_type": "code",
      "execution_count": null,
      "metadata": {
        "colab": {
          "base_uri": "https://localhost:8080/"
        },
        "id": "4Yaa956FOzaY",
        "outputId": "b2f95df3-9d6c-4489-9b73-dc8d1a419575"
      },
      "outputs": [
        {
          "name": "stdout",
          "output_type": "stream",
          "text": [
            "3\n",
            "5\n",
            "7\n",
            "9\n",
            "11\n",
            "13\n",
            "15\n",
            "17\n",
            "19\n"
          ]
        }
      ],
      "source": [
        "for i in range(3,21,2): # range(inicio, fin, paso) => inicio = 5  fin= 21-1 paso=5\n",
        "  print(i)"
      ]
    },
    {
      "cell_type": "markdown",
      "metadata": {
        "id": "qi7hAPE4VtXK"
      },
      "source": [
        "La función range () tiene por defecto 0 como valor inicial, sin embargo, es posible especificar el valor inicial agregando un parámetro: range (2, 6), que significa valores de 2 a 6 (pero sin incluir 6):"
      ]
    },
    {
      "cell_type": "code",
      "execution_count": null,
      "metadata": {
        "id": "MSNCnajZV3g5"
      },
      "outputs": [],
      "source": []
    },
    {
      "cell_type": "markdown",
      "metadata": {
        "id": "lLW0Bx3EV63v"
      },
      "source": [
        "La función range () tiene como valor predeterminado incrementar la secuencia en 1, sin embargo, es posible especificar el valor de incremento agregando un tercer parámetro: range (2, 30, 3):"
      ]
    },
    {
      "cell_type": "code",
      "execution_count": null,
      "metadata": {
        "colab": {
          "base_uri": "https://localhost:8080/"
        },
        "id": "5uFzoZaPV6iI",
        "outputId": "41765b60-02d8-4720-f95b-c5e348973e71"
      },
      "outputs": [
        {
          "name": "stdout",
          "output_type": "stream",
          "text": [
            "2\n",
            "5\n",
            "8\n"
          ]
        }
      ],
      "source": [
        "for i in range(2,10,3):\n",
        "  print(i)"
      ]
    },
    {
      "cell_type": "markdown",
      "metadata": {
        "id": "6JdLQ0lwWCT5"
      },
      "source": [
        "**else en el ciclo for**\n",
        "\n",
        "La palabra clave else en un bucle for especifica un bloque de código que se ejecutará cuando finalice el bucle:"
      ]
    },
    {
      "cell_type": "code",
      "execution_count": null,
      "metadata": {
        "id": "8TirPCpuWIIg"
      },
      "outputs": [],
      "source": []
    },
    {
      "cell_type": "markdown",
      "metadata": {
        "id": "C5M2rxoLWQ8m"
      },
      "source": [
        "**Ciclos (o bucles) anidados**\n",
        "\n",
        "Un bucle anidado es un bucle dentro de un bucle.\n",
        "\n",
        "El \"bucle interno\" se ejecutará una vez por cada iteración del \"bucle externo\":"
      ]
    },
    {
      "cell_type": "code",
      "execution_count": null,
      "metadata": {
        "id": "0h7bA_uOWRYv"
      },
      "outputs": [],
      "source": [
        "lista = [[1,2],\n",
        "         [3,4]]"
      ]
    },
    {
      "cell_type": "code",
      "execution_count": null,
      "metadata": {
        "colab": {
          "base_uri": "https://localhost:8080/"
        },
        "id": "pxFt8RI6BiO4",
        "outputId": "dfc7d665-c2b0-48aa-b23f-0f6939d8f548"
      },
      "outputs": [
        {
          "name": "stdout",
          "output_type": "stream",
          "text": [
            "Lista externa\n",
            "Lista interna\n",
            "1\n",
            "Lista interna\n",
            "2\n",
            "Lista externa\n",
            "Lista interna\n",
            "3\n",
            "Lista interna\n",
            "4\n"
          ]
        }
      ],
      "source": [
        "for i in lista:\n",
        "  print(\"Lista externa\")\n",
        "  for j in i:\n",
        "    print(\"Lista interna\")\n",
        "    print(j)"
      ]
    },
    {
      "cell_type": "markdown",
      "metadata": {
        "id": "kdNMFlztBipf"
      },
      "source": [
        "# Ejercicios"
      ]
    },
    {
      "cell_type": "markdown",
      "metadata": {
        "id": "XjeW-qtzrfI8"
      },
      "source": [
        "1.  Saltar cuando aparezca la naranaja\n",
        "lista = [\"mango\", \"mandarina\", \"naranja\", \"pera\", \"Palta\", \"Arazá\"]\n",
        "\n",
        "output :\n",
        "\n",
        "mango\n",
        "\n",
        "mandarina\n",
        "\n",
        "pera\n",
        "\n",
        "palta\n",
        "\n",
        "arazá"
      ]
    },
    {
      "cell_type": "code",
      "execution_count": null,
      "metadata": {
        "id": "LDBk8njlRzvd"
      },
      "outputs": [],
      "source": [
        "lista = [\"mango\", \"mandarina\", \"naranja\", \"pera\", \"Palta\", \"Arazá\"]\n",
        "\n",
        "for fruta in lista:\n",
        " if fruta == \"naranja\":\n",
        "  continue\n",
        " print(fruta)\n"
      ]
    },
    {
      "cell_type": "code",
      "execution_count": null,
      "metadata": {
        "id": "9TSnmNtzRztA"
      },
      "outputs": [],
      "source": []
    },
    {
      "cell_type": "markdown",
      "metadata": {
        "id": "9jw-gnCCr75R"
      },
      "source": [
        "2. ANALIZA LAS SOLUCIONES:\n",
        "Realiza un programa que lea un número impar por teclado. Si el usuario no introduce un número impar, debe repetirse el proceso hasta que el usuario ingrese un número impar."
      ]
    },
    {
      "cell_type": "code",
      "execution_count": null,
      "metadata": {
        "id": "xQbg621aRu-b"
      },
      "outputs": [],
      "source": [
        "while True:\n",
        " num = int(input(\"Ingrese un número impar: \"))\n",
        " if num % 2 != 0:\n",
        "  break\n"
      ]
    }
  ],
  "metadata": {
    "colab": {
      "provenance": []
    },
    "kernelspec": {
      "display_name": "Python 3",
      "name": "python3"
    },
    "language_info": {
      "name": "python"
    }
  },
  "nbformat": 4,
  "nbformat_minor": 0
}
