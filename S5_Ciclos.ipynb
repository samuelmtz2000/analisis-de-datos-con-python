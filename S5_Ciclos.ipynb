{
  "nbformat": 4,
  "nbformat_minor": 0,
  "metadata": {
    "colab": {
      "provenance": []
    },
    "kernelspec": {
      "display_name": "Python 3",
      "name": "python3"
    },
    "language_info": {
      "name": "python"
    }
  },
  "cells": [
    {
      "cell_type": "markdown",
      "metadata": {
        "id": "2L9y2mSyAdIg"
      },
      "source": [
        "**Cuándo y cómo usar los ciclos en Python**\n",
        "\n",
        "Existen dos tipos de instrucciones para repetir de forma cíclica un conjunto de instrucciones en Python:\n",
        "\n",
        "*   for\n",
        "*   while\n",
        "\n",
        "\n",
        "Los ciclos pueden llamarse bucles, ciclos o iteraciones.\n"
      ]
    },
    {
      "cell_type": "markdown",
      "source": [
        "**Casos de uso de los ciclos (Tipos de Ciclos)**"
      ],
      "metadata": {
        "id": "KwArD2ezdaBA"
      }
    },
    {
      "cell_type": "code",
      "source": [
        "# Ciclo contado usando range(n:int)\n",
        "for i in range(0,10,1):\n",
        "  print(i)"
      ],
      "metadata": {
        "colab": {
          "base_uri": "https://localhost:8080/"
        },
        "id": "NTv81f-_wscL",
        "outputId": "eeb72641-298e-4212-881a-00ecb77a648d"
      },
      "execution_count": null,
      "outputs": [
        {
          "output_type": "stream",
          "name": "stdout",
          "text": [
            "0\n",
            "1\n",
            "2\n",
            "3\n",
            "4\n",
            "5\n",
            "6\n",
            "7\n",
            "8\n",
            "9\n"
          ]
        }
      ]
    },
    {
      "cell_type": "code",
      "source": [
        "import numpy as np\n",
        "# Ciclo contado usando range(n:int)\n",
        "for i in np.arange(2,3,0.50):\n",
        "  print(i)"
      ],
      "metadata": {
        "colab": {
          "base_uri": "https://localhost:8080/"
        },
        "id": "gg1XXl26w-MR",
        "outputId": "0d5e2a5f-9c62-4a28-b8be-410148060172"
      },
      "execution_count": null,
      "outputs": [
        {
          "output_type": "stream",
          "name": "stdout",
          "text": [
            "2.0\n",
            "2.5\n"
          ]
        }
      ]
    },
    {
      "cell_type": "code",
      "source": [
        "# Nombre   input    => [?]  => output\n",
        "# range    int, n   => [?]  => iterable 0 <-> n-1\n",
        "\n",
        "# Ciclo contado usando range(n:int)\n",
        "# for i in range(5):\n",
        "#   print(i)\n",
        "\n",
        "# Ciclo iterador sobre un contendor tipo lista\n",
        "vocales = ['a', 'e', 'i', 'o', 'u']\n",
        "for vocal in vocales:\n",
        "  print(vocal)"
      ],
      "metadata": {
        "id": "LsQ3fYCPdagA",
        "colab": {
          "base_uri": "https://localhost:8080/"
        },
        "outputId": "618c4499-8785-48d8-ce53-d2c1ec425c46"
      },
      "execution_count": null,
      "outputs": [
        {
          "output_type": "stream",
          "name": "stdout",
          "text": [
            "a\n",
            "e\n",
            "i\n",
            "o\n",
            "u\n"
          ]
        }
      ]
    },
    {
      "cell_type": "code",
      "source": [
        "# Ciclo evaluado - No sé de antemano cuántas veces se va a ejecutar\n",
        "num = 21\n",
        "while num%2:\n",
        "  num = int(input(\"Ingresa un número: \"))\n",
        "\n",
        "# Ciclo infinito - Para detenerlo haz clic otra vez en el botón de play\n",
        "while True:\n",
        "  print(\"Imprime esto infinitamente\")"
      ],
      "metadata": {
        "id": "BohJQB2Xfz2e"
      },
      "execution_count": null,
      "outputs": []
    },
    {
      "cell_type": "code",
      "source": [
        "bool(100%2)"
      ],
      "metadata": {
        "id": "VbAjODDKgc8k",
        "colab": {
          "base_uri": "https://localhost:8080/"
        },
        "outputId": "579750af-5fee-47ea-a0fd-83cf9b853c73"
      },
      "execution_count": null,
      "outputs": [
        {
          "output_type": "execute_result",
          "data": {
            "text/plain": [
              "False"
            ]
          },
          "metadata": {},
          "execution_count": 5
        }
      ]
    },
    {
      "cell_type": "code",
      "source": [
        "98%2"
      ],
      "metadata": {
        "id": "XCdirvSAgj7y",
        "colab": {
          "base_uri": "https://localhost:8080/"
        },
        "outputId": "49805578-62e7-4763-fb4f-5a2cc218edfd"
      },
      "execution_count": null,
      "outputs": [
        {
          "output_type": "execute_result",
          "data": {
            "text/plain": [
              "0"
            ]
          },
          "metadata": {},
          "execution_count": 6
        }
      ]
    },
    {
      "cell_type": "code",
      "source": [
        "bool(73%2)"
      ],
      "metadata": {
        "id": "J9U8qft4gmGL",
        "colab": {
          "base_uri": "https://localhost:8080/"
        },
        "outputId": "faca09aa-fb38-4681-9580-8ba9a0127591"
      },
      "execution_count": null,
      "outputs": [
        {
          "output_type": "execute_result",
          "data": {
            "text/plain": [
              "True"
            ]
          },
          "metadata": {},
          "execution_count": 8
        }
      ]
    },
    {
      "cell_type": "code",
      "source": [
        "15%2"
      ],
      "metadata": {
        "id": "lLvze1QDgokH"
      },
      "execution_count": null,
      "outputs": []
    },
    {
      "cell_type": "code",
      "source": [
        "False == 0"
      ],
      "metadata": {
        "id": "kTv8kPRbg-Pw"
      },
      "execution_count": null,
      "outputs": []
    },
    {
      "cell_type": "code",
      "source": [
        "True == 1"
      ],
      "metadata": {
        "id": "_YBK2ZPGhBov"
      },
      "execution_count": null,
      "outputs": []
    },
    {
      "cell_type": "markdown",
      "metadata": {
        "id": "LDnIMIhWWhH7"
      },
      "source": [
        "# Ciclos *while*\n",
        "\n",
        "Con el ciclo while podemos ejecutar un conjunto de declaraciones siempre que una condición sea verdadera."
      ]
    },
    {
      "cell_type": "code",
      "metadata": {
        "colab": {
          "base_uri": "https://localhost:8080/"
        },
        "id": "c6HLx5nOWr4J",
        "outputId": "4e0887ee-474a-4c6f-c431-be903d97dafa"
      },
      "source": [
        "# Problema: Sumar los elementos de una lista\n",
        "lista = [1,2,3,4,5]\n",
        "suma = lista[0] + lista[1] + lista[2] + lista[3] + lista[4] # Fuerza bruta\n",
        "print(suma)"
      ],
      "execution_count": null,
      "outputs": [
        {
          "output_type": "stream",
          "name": "stdout",
          "text": [
            "15\n"
          ]
        }
      ]
    },
    {
      "cell_type": "code",
      "metadata": {
        "colab": {
          "base_uri": "https://localhost:8080/"
        },
        "id": "ra1n_ouhmw62",
        "outputId": "40927698-218c-4bf3-c466-16651c2c8249"
      },
      "source": [
        "indice = 0\n",
        "suma = 0\n",
        "while indice <= 4:\n",
        "  suma += lista[indice] # suma = suma + lista[indice]\n",
        "  indice += 1 # Equivalente indice = indice + 1\n",
        "print(suma)"
      ],
      "execution_count": null,
      "outputs": [
        {
          "output_type": "stream",
          "name": "stdout",
          "text": [
            "15\n"
          ]
        }
      ]
    },
    {
      "cell_type": "markdown",
      "metadata": {
        "id": "pB2FvqgYWzwp"
      },
      "source": [
        "Nota: recuerda incrementar el índice, de lo contrario el ciclo continuará para siempre."
      ]
    },
    {
      "cell_type": "code",
      "source": [
        "suma = 0\n",
        "for num in lista:\n",
        "  suma += num\n",
        "\n",
        "print(suma)"
      ],
      "metadata": {
        "colab": {
          "base_uri": "https://localhost:8080/"
        },
        "id": "T8p2C61KkCgv",
        "outputId": "be1318f8-1c92-4ab6-c46e-ba7c11eb5142"
      },
      "execution_count": null,
      "outputs": [
        {
          "output_type": "stream",
          "name": "stdout",
          "text": [
            "15\n"
          ]
        }
      ]
    },
    {
      "cell_type": "markdown",
      "metadata": {
        "id": "p3glBwxPW6V2"
      },
      "source": [
        "**La instrucción break**\n",
        "\n",
        "Con la sentencia break podemos detener el ciclo incluso si la condición while es verdadera:"
      ]
    },
    {
      "cell_type": "code",
      "metadata": {
        "colab": {
          "base_uri": "https://localhost:8080/"
        },
        "id": "Z3ObdRu7XE0X",
        "outputId": "de91cc5f-e879-42ba-e788-a0626593458b"
      },
      "source": [
        "lista = [\"mango\", \"mandarina\", \"naranja\", \"pera\"]\n",
        "\n",
        "numIteraciones = len(lista)\n",
        "i = 0\n",
        "\n",
        "while i<numIteraciones:\n",
        "  print(\"Ejecución dentro del while: \", lista[i])\n",
        "  break\n",
        "  i += 1\n",
        "  #break\n",
        "\n",
        "print(i)"
      ],
      "execution_count": null,
      "outputs": [
        {
          "output_type": "stream",
          "name": "stdout",
          "text": [
            "Ejecución dentro del while:  mango\n",
            "0\n"
          ]
        }
      ]
    },
    {
      "cell_type": "code",
      "metadata": {
        "colab": {
          "base_uri": "https://localhost:8080/"
        },
        "id": "NGPCC0SkrdxR",
        "outputId": "6544c992-0abe-4736-fc6f-ed933853e142"
      },
      "source": [
        "#Quiero detenerme cuando aparezca la naranaja\n",
        "lista = [\"mango\", \"mandarina\", \"naranja\", \"pera\"]\n",
        "\n",
        "numIteraciones = len(lista)\n",
        "i = 0 # a veces recibe el nombre de iterador o contador\n",
        "\n",
        "while i<numIteraciones:\n",
        "  print(lista[i])\n",
        "  if lista[i] == \"naranja\":\n",
        "    break\n",
        "  i += 1"
      ],
      "execution_count": null,
      "outputs": [
        {
          "output_type": "stream",
          "name": "stdout",
          "text": [
            "mango\n",
            "mandarina\n",
            "naranja\n"
          ]
        }
      ]
    },
    {
      "cell_type": "markdown",
      "metadata": {
        "id": "oJRsAiqNXFaW"
      },
      "source": [
        "**La instrucción continue**\n",
        "\n",
        "Con la declaración continue podemos detener la iteración actual y continuar con la siguiente:"
      ]
    },
    {
      "cell_type": "code",
      "metadata": {
        "id": "cTr9_KwwXF9E"
      },
      "source": [
        "#Quiero saltar cuando aparezca la naranaja\n",
        "lista = [\"mango\", \"mandarina\", \"naranja\", \"pera\", \"Palta\", \"Arazá\"]\n",
        "\n",
        "numIteraciones = len(lista)\n",
        "i = 0 # a veces recibe el nombre de iterador o contador\n",
        "\n",
        "while i<numIteraciones:\n",
        "  print(lista[i])\n",
        "  if lista[i] == \"naranja\":\n",
        "    i += 1\n",
        "    continue\n",
        "  i += 1"
      ],
      "execution_count": null,
      "outputs": []
    },
    {
      "cell_type": "code",
      "metadata": {
        "colab": {
          "base_uri": "https://localhost:8080/"
        },
        "id": "SSgqNcD4w81L",
        "outputId": "4015feca-eece-4b8f-acaa-fde95fe05888"
      },
      "source": [
        "i = 0\n",
        "\n",
        "while i < 5:\n",
        "  i += 1\n",
        "  if i == 3:\n",
        "    continue\n",
        "  print(i)"
      ],
      "execution_count": null,
      "outputs": [
        {
          "output_type": "stream",
          "name": "stdout",
          "text": [
            "1\n",
            "2\n",
            "4\n",
            "5\n"
          ]
        }
      ]
    },
    {
      "cell_type": "code",
      "source": [
        "i = 0\n",
        "\n",
        "while i < 5:\n",
        "  i += 1\n",
        "  print(i)\n",
        "  continue"
      ],
      "metadata": {
        "colab": {
          "base_uri": "https://localhost:8080/"
        },
        "id": "dnaNWcZ2qmLx",
        "outputId": "fc198ef1-c1a5-4354-f0c9-a46d11401077"
      },
      "execution_count": null,
      "outputs": [
        {
          "output_type": "stream",
          "name": "stdout",
          "text": [
            "1\n",
            "2\n",
            "3\n",
            "4\n",
            "5\n"
          ]
        }
      ]
    },
    {
      "cell_type": "code",
      "metadata": {
        "colab": {
          "base_uri": "https://localhost:8080/"
        },
        "id": "f9gl5Pzctfas",
        "outputId": "36dd555e-f77c-4ff5-c356-fc52059c0a9c"
      },
      "source": [
        "i = 0\n",
        "\n",
        "while i < 5:\n",
        "  i += 1\n",
        "  if i == 3:\n",
        "    break\n",
        "  print(i)\n",
        "else:\n",
        "  print(\"Fin del while\")"
      ],
      "execution_count": null,
      "outputs": [
        {
          "output_type": "stream",
          "name": "stdout",
          "text": [
            "1\n",
            "2\n"
          ]
        }
      ]
    },
    {
      "cell_type": "markdown",
      "metadata": {
        "id": "-jLf1vBdXGaB"
      },
      "source": [
        "La instrucción else\n",
        "\n",
        "Con la instrucción else podemos ejecutar un bloque de código una vez cuando la condición ya no es verdadera:"
      ]
    },
    {
      "cell_type": "code",
      "metadata": {
        "colab": {
          "base_uri": "https://localhost:8080/"
        },
        "id": "PC45IsR5aB6r",
        "outputId": "faeab088-629e-4400-9323-fa2426028c25"
      },
      "source": [
        "i = 0\n",
        "\n",
        "while i < 5:\n",
        "  i += 1\n",
        "  print(i)\n",
        "else:\n",
        "  print(\"Fin del while\")\n"
      ],
      "execution_count": null,
      "outputs": [
        {
          "output_type": "stream",
          "name": "stdout",
          "text": [
            "1\n",
            "2\n",
            "3\n",
            "4\n",
            "5\n",
            "Fin del while\n"
          ]
        }
      ]
    },
    {
      "cell_type": "code",
      "metadata": {
        "colab": {
          "base_uri": "https://localhost:8080/"
        },
        "id": "smX8y6MMx0Qc",
        "outputId": "ceefbc14-8c6e-48f3-f85a-93d619d65073"
      },
      "source": [
        "i = 0\n",
        "\n",
        "while i < 5:\n",
        "  i += 1\n",
        "  if i == 3:\n",
        "    break\n",
        "  print(i)\n",
        "else:\n",
        "  print(\"me quedé en i = \", i)"
      ],
      "execution_count": null,
      "outputs": [
        {
          "output_type": "stream",
          "name": "stdout",
          "text": [
            "1\n",
            "2\n"
          ]
        }
      ]
    },
    {
      "cell_type": "markdown",
      "metadata": {
        "id": "8QqZAVOuT6AF"
      },
      "source": [
        "# Ciclos for\n",
        "\n",
        "Un ciclo *for* se usa para iterar sobre una secuencia que puede ser una lista, una tupla, un diccionario, un conjunto o un string.\n",
        "\n",
        "Con el bucle for podemos ejecutar un conjunto de declaraciones, una vez para cada elemento de una lista, tupla, conjunto, etc."
      ]
    },
    {
      "cell_type": "code",
      "metadata": {
        "colab": {
          "base_uri": "https://localhost:8080/"
        },
        "id": "Zid_KEHpUtiQ",
        "outputId": "ecc5750f-a7fc-4f24-f2d0-b04c28dceaba"
      },
      "source": [
        "lista = [\"perro\",\"gato\",\"ratón\",\"perico\"]\n",
        "i = 0 # No es necesario este índice (iterador o contador)\n",
        "for animal in lista:\n",
        "  print(animal)"
      ],
      "execution_count": null,
      "outputs": [
        {
          "output_type": "stream",
          "name": "stdout",
          "text": [
            "perro\n",
            "gato\n",
            "ratón\n",
            "perico\n"
          ]
        }
      ]
    },
    {
      "cell_type": "code",
      "source": [
        "for i in range(3):\n",
        "  print(i)"
      ],
      "metadata": {
        "colab": {
          "base_uri": "https://localhost:8080/"
        },
        "id": "188TcQZmGZdK",
        "outputId": "c6580c66-09db-4e04-959f-fffe2849df2e"
      },
      "execution_count": null,
      "outputs": [
        {
          "output_type": "stream",
          "name": "stdout",
          "text": [
            "0\n",
            "1\n",
            "2\n"
          ]
        }
      ]
    },
    {
      "cell_type": "code",
      "source": [
        "for i in range(3,10,2):\n",
        "  print(i)"
      ],
      "metadata": {
        "colab": {
          "base_uri": "https://localhost:8080/"
        },
        "id": "kRX87ayCGhaa",
        "outputId": "6d3b5b3b-d82d-44d1-ab57-0fa8be04d2c7"
      },
      "execution_count": null,
      "outputs": [
        {
          "output_type": "stream",
          "name": "stdout",
          "text": [
            "3\n",
            "5\n",
            "7\n",
            "9\n"
          ]
        }
      ]
    },
    {
      "cell_type": "markdown",
      "metadata": {
        "id": "KGH1h-MiU_gl"
      },
      "source": [
        "**La instrucción *break***\n",
        "\n",
        "* Con la instrucción break podemos detener el ciclo antes de que haya pasado por todos los elementos:"
      ]
    },
    {
      "cell_type": "code",
      "metadata": {
        "colab": {
          "base_uri": "https://localhost:8080/"
        },
        "id": "ASJ-bzwzVG_w",
        "outputId": "dc9ebe84-f9d7-4357-e38d-dcc9df65020c"
      },
      "source": [
        "lista = [\"perro\",\"gato\",\"ratón\",\"perico\"]\n",
        "i = 0\n",
        "for animal in lista:\n",
        "  print(animal)\n",
        "  if animal == \"gato\":\n",
        "    break\n",
        "print(\"Terminé el ciclo\")"
      ],
      "execution_count": null,
      "outputs": [
        {
          "output_type": "stream",
          "name": "stdout",
          "text": [
            "perro\n",
            "gato\n",
            "Terminé el ciclo\n"
          ]
        }
      ]
    },
    {
      "cell_type": "markdown",
      "metadata": {
        "id": "wRyc9Lh6VHqJ"
      },
      "source": [
        "**La instrucción *continue***\n",
        "\n",
        "Con la instrucción continue podemos detener la iteración actual del ciclo y continuar con la siguiente:"
      ]
    },
    {
      "cell_type": "code",
      "metadata": {
        "id": "zslC1cZBVZ3S",
        "colab": {
          "base_uri": "https://localhost:8080/"
        },
        "outputId": "f2dde3cd-0ebc-4218-e523-a4ddce7ce7eb"
      },
      "source": [
        "lista = [\"perro\",\"gato\",\"ratón\",\"perico\"]\n",
        "i = 0\n",
        "for animal in lista:\n",
        "  if animal == \"ratón\":\n",
        "    continue\n",
        "  print(animal)"
      ],
      "execution_count": null,
      "outputs": [
        {
          "output_type": "stream",
          "name": "stdout",
          "text": [
            "perro\n",
            "gato\n",
            "ratón\n"
          ]
        }
      ]
    },
    {
      "cell_type": "markdown",
      "metadata": {
        "id": "WFYUoEk_VenC"
      },
      "source": [
        "**La función *range ()***\n",
        "\n",
        "* Para recorrer un conjunto de código un número específico de veces, podemos usar la función range (),\n",
        "* La función range () devuelve una secuencia de números, comenzando desde 0 de forma predeterminada, se incrementa en 1 (de forma predeterminada) y termina en un número especificado."
      ]
    },
    {
      "cell_type": "code",
      "metadata": {
        "id": "_V4TAMomVs93",
        "colab": {
          "base_uri": "https://localhost:8080/"
        },
        "outputId": "d0579e0c-9650-4b49-8e8b-cefb54c8e8e2"
      },
      "source": [
        "for i in range(5): # incio = 0, fin = 5-1 (no inclusive)\n",
        "  print(i)"
      ],
      "execution_count": null,
      "outputs": [
        {
          "output_type": "stream",
          "name": "stdout",
          "text": [
            "0\n",
            "1\n",
            "2\n",
            "3\n",
            "4\n"
          ]
        }
      ]
    },
    {
      "cell_type": "code",
      "metadata": {
        "colab": {
          "base_uri": "https://localhost:8080/"
        },
        "id": "RvXBlp_wOs8b",
        "outputId": "44a874bf-3184-45e4-b0e6-8d3d6da48a5b"
      },
      "source": [
        "for i in range(6,10): # inicio=6 fin=10-1  =>5 inclusive   10 no inclusive\n",
        "  print(i)"
      ],
      "execution_count": null,
      "outputs": [
        {
          "output_type": "stream",
          "name": "stdout",
          "text": [
            "6\n",
            "7\n",
            "8\n",
            "9\n"
          ]
        }
      ]
    },
    {
      "cell_type": "code",
      "metadata": {
        "colab": {
          "base_uri": "https://localhost:8080/"
        },
        "id": "4Yaa956FOzaY",
        "outputId": "b2f95df3-9d6c-4489-9b73-dc8d1a419575"
      },
      "source": [
        "for i in range(3,21,2): # range(inicio, fin, paso) => inicio = 5  fin= 21-1 paso=5\n",
        "  print(i)"
      ],
      "execution_count": null,
      "outputs": [
        {
          "output_type": "stream",
          "name": "stdout",
          "text": [
            "3\n",
            "5\n",
            "7\n",
            "9\n",
            "11\n",
            "13\n",
            "15\n",
            "17\n",
            "19\n"
          ]
        }
      ]
    },
    {
      "cell_type": "markdown",
      "metadata": {
        "id": "qi7hAPE4VtXK"
      },
      "source": [
        "La función range () tiene por defecto 0 como valor inicial, sin embargo, es posible especificar el valor inicial agregando un parámetro: range (2, 6), que significa valores de 2 a 6 (pero sin incluir 6):"
      ]
    },
    {
      "cell_type": "code",
      "metadata": {
        "id": "MSNCnajZV3g5"
      },
      "source": [],
      "execution_count": null,
      "outputs": []
    },
    {
      "cell_type": "markdown",
      "metadata": {
        "id": "lLW0Bx3EV63v"
      },
      "source": [
        "La función range () tiene como valor predeterminado incrementar la secuencia en 1, sin embargo, es posible especificar el valor de incremento agregando un tercer parámetro: range (2, 30, 3):"
      ]
    },
    {
      "cell_type": "code",
      "metadata": {
        "id": "5uFzoZaPV6iI",
        "colab": {
          "base_uri": "https://localhost:8080/"
        },
        "outputId": "41765b60-02d8-4720-f95b-c5e348973e71"
      },
      "source": [
        "for i in range(2,10,3):\n",
        "  print(i)"
      ],
      "execution_count": null,
      "outputs": [
        {
          "output_type": "stream",
          "name": "stdout",
          "text": [
            "2\n",
            "5\n",
            "8\n"
          ]
        }
      ]
    },
    {
      "cell_type": "markdown",
      "metadata": {
        "id": "6JdLQ0lwWCT5"
      },
      "source": [
        "**else en el ciclo for**\n",
        "\n",
        "La palabra clave else en un bucle for especifica un bloque de código que se ejecutará cuando finalice el bucle:"
      ]
    },
    {
      "cell_type": "code",
      "metadata": {
        "id": "8TirPCpuWIIg"
      },
      "source": [],
      "execution_count": null,
      "outputs": []
    },
    {
      "cell_type": "markdown",
      "metadata": {
        "id": "C5M2rxoLWQ8m"
      },
      "source": [
        "**Ciclos (o bucles) anidados**\n",
        "\n",
        "Un bucle anidado es un bucle dentro de un bucle.\n",
        "\n",
        "El \"bucle interno\" se ejecutará una vez por cada iteración del \"bucle externo\":"
      ]
    },
    {
      "cell_type": "code",
      "metadata": {
        "id": "0h7bA_uOWRYv"
      },
      "source": [
        "lista = [[1,2],\n",
        "         [3,4]]"
      ],
      "execution_count": null,
      "outputs": []
    },
    {
      "cell_type": "code",
      "source": [
        "for i in lista:\n",
        "  print(\"Lista externa\")\n",
        "  for j in i:\n",
        "    print(\"Lista interna\")\n",
        "    print(j)"
      ],
      "metadata": {
        "id": "pxFt8RI6BiO4",
        "colab": {
          "base_uri": "https://localhost:8080/"
        },
        "outputId": "dfc7d665-c2b0-48aa-b23f-0f6939d8f548"
      },
      "execution_count": null,
      "outputs": [
        {
          "output_type": "stream",
          "name": "stdout",
          "text": [
            "Lista externa\n",
            "Lista interna\n",
            "1\n",
            "Lista interna\n",
            "2\n",
            "Lista externa\n",
            "Lista interna\n",
            "3\n",
            "Lista interna\n",
            "4\n"
          ]
        }
      ]
    },
    {
      "cell_type": "markdown",
      "source": [
        "# Ejercicios"
      ],
      "metadata": {
        "id": "kdNMFlztBipf"
      }
    },
    {
      "cell_type": "markdown",
      "source": [
        "1.  Saltar cuando aparezca la naranaja\n",
        "lista = [\"mango\", \"mandarina\", \"naranja\", \"pera\", \"Palta\", \"Arazá\"]\n",
        "\n",
        "output :\n",
        "\n",
        "mango\n",
        "\n",
        "mandarina\n",
        "\n",
        "pera\n",
        "\n",
        "palta\n",
        "\n",
        "arazá"
      ],
      "metadata": {
        "id": "XjeW-qtzrfI8"
      }
    },
    {
      "cell_type": "code",
      "source": [],
      "metadata": {
        "id": "LDBk8njlRzvd"
      },
      "execution_count": null,
      "outputs": []
    },
    {
      "cell_type": "code",
      "source": [],
      "metadata": {
        "id": "9TSnmNtzRztA"
      },
      "execution_count": null,
      "outputs": []
    },
    {
      "cell_type": "markdown",
      "source": [
        "2. ANALIZA LAS SOLUCIONES:\n",
        "Realiza un programa que lea un número impar por teclado. Si el usuario no introduce un número impar, debe repetirse el proceso hasta que el usuario ingrese un número impar."
      ],
      "metadata": {
        "id": "9jw-gnCCr75R"
      }
    },
    {
      "cell_type": "code",
      "source": [],
      "metadata": {
        "id": "xQbg621aRu-b"
      },
      "execution_count": null,
      "outputs": []
    }
  ]
}